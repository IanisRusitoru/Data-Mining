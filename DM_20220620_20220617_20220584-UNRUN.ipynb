{
 "cells": [
  {
   "cell_type": "markdown",
   "id": "95a63f05",
   "metadata": {},
   "source": [
    "# A2Z Insurance \n",
    "\n",
    "Authors:\n",
    "- Ianis Rușitoru (20220620)\n",
    "- Nichita Zamisnii (20220617)\n",
    "- Ricardo Almeida (20220584)\n",
    "\n",
    "2022/2023"
   ]
  },
  {
   "cell_type": "markdown",
   "id": "e70d3488",
   "metadata": {},
   "source": [
    "<a class=\"anchor\" id=\"1.0\">\n",
    "    \n",
    "</a>"
   ]
  },
  {
   "cell_type": "markdown",
   "id": "a07f2790",
   "metadata": {},
   "source": [
    "**Index**  <br>\n",
    "* [1. Import](#1)\n",
    "     * [1.1 Import libraries](#1.1)<br>\n",
    "     * [1.2 Import the dataset](#1.2)<br>\n",
    " \n",
    "* [2. Data Exploration](#2)<br>\n",
    "    * [2.1 Data](#2.1)<br>\n",
    "    * [2.2 Visualization](#2.2)<br>\n",
    "    * [2.3 Correlation Check](#2.3)<br>   \n",
    "* [3 Preprocessing](#3)<br>\n",
    "    * [3.1 Duplicates](#3.1)<br>\n",
    "    * [3.2 Outliers Removal](#3.2)<br>\n",
    "    * [3.3 Missing Values](#3.3)<br>    \n",
    "         * [3.3.1 Non-Metric Features](#3.3.1)<br>\n",
    "             * [3.3.1.1 Education](#3.3.1.1)<br>\n",
    "             * [3.3.1.2 GeoLiveArea](#3.3.1.2)<br>\n",
    "             * [3.3.1.3 Children](#3.3.1.2)<br>\n",
    "         * [3.3.2 Metric Features](#3.3.2)<br>    \n",
    "             * [3.3.2.1 FirstPolYear](#3.3.2.1)<br>\n",
    "             * [3.3.2.2 Age](#3.3.2.2)<br>\n",
    "             * [3.3.2.2 Monthly Salary](#3.3.2.3)<br>\n",
    "             * [3.3.2.2 CustMonVal](#3.3.2.4)<br>\n",
    "             * [3.3.2.2 ClaimsRate](#3.3.2.5)<br>\n",
    "             * [3.3.2.2 Premiums](#3.3.2.6)<br>\n",
    "    * [3.4 Visualization](#3.4)<br>\n",
    "    * [3.5 Coherence](#3.5)<br>\n",
    "         * [3.5.1 Birth Year](#3.5.1)<br>\n",
    "         * [3.5.2 Birth Year and FirstPolYear](#3.5.2)<br>\n",
    "         * [3.5.3 Birth Year and Education](#3.5.3)<br>\n",
    "    * [3.6 Skewness](#3.6)<br>\n",
    "    * [3.7 New Variables](#3.7)<br>\n",
    "         * [3.7.1 Age](#3.7.1)<br>\n",
    "         * [3.7.2 Total Premiums (Annual)](#3.7.2)<br>\n",
    "         * [3.7.3 Annual Salary(12x)](#3.7.3)<br>\n",
    "         * [3.7.4 %SalaryInsurance](#3.7.4)<br>  \n",
    "         * [3.7.5 %SalaryInsuranceMotor](#3.7.5)<br>    \n",
    "         * [3.7.6 %SalaryInsuranceHousehold](#3.7.6)<br>\n",
    "         * [3.7.7 %SalaryInsuranceHealth](#3.7.7)<br>\n",
    "         * [3.7.8 %SalaryInsuranceLife](#3.7.8)<br> \n",
    "         * [3.7.7 %SalaryInsuranceWork](#3.7.9)<br>\n",
    "         * [3.7.8 BinnedCR](#3.7.10)<br>         \n",
    "         * [3.7.8 Liquid Salary](#3.7.11)<br>              \n",
    "    * [3.8 Encoders](#3.8)<br>\n",
    "         * [3.7.1 Ordinal Encoder](#3.8.1)<br>\n",
    "         * [3.7.2 One-Hot Encoder](#3.8.2)<br>\n",
    "    * [3.9 Scaled Data](#3.9)<br>\n",
    "    * [3.10 Visualization (Numeric Variables VS BinnedCR)](#3.10)<br>\n",
    "* [4 Segmentaion](#4)<br>\n",
    "    * [4.1 Value](#4.1)<br>\n",
    "         * [4.1.1 Kmeans](#4.1.1)<br>\n",
    "         * [4.1.2 KMeans + Hierarchical](#4.1.2)<br>\n",
    "         * [4.1.3 SOM](#4.1.3)<br>\n",
    "    * [4.2 Demographic](#4.2)<br>\n",
    "         * [4.2.1 K-Prototype](#4.2.1)<br>\n",
    "         * [4.2.1 Kmeans](#4.2.2)<br>\n",
    "         * [4.2.3 KMeans + Hierarchical](#4.2.3)<br>\n",
    "* [5 Merging the perspectives](#5)<br>\n",
    "* [6 Cluster Analysis](#6)<br>\n",
    "    * [6.1 Parallel Coordinate and Frequency (Value/Deemographic/Merged)](#6.1)<br>\n",
    "    * [6.2 PCA](#6.2)<br>\n",
    "    * [6.3 UMAP](#6.3)<br>\n",
    "    * [6.4 T-SNE](#6.4)<br>\n",
    "</div>"
   ]
  },
  {
   "cell_type": "markdown",
   "id": "afbde22b",
   "metadata": {},
   "source": [
    "<div class=\"alert alert-block alert-info\">\n",
    "\n",
    "<a class=\"anchor\" id=\"1\">    </a>\n",
    "# Import\n",
    "       \n",
    "</div>\n",
    "\n"
   ]
  },
  {
   "cell_type": "markdown",
   "id": "3eb4d086",
   "metadata": {},
   "source": [
    "[Back to Index](#1.0)"
   ]
  },
  {
   "cell_type": "markdown",
   "id": "1a8ca9fa",
   "metadata": {},
   "source": [
    "<a class=\"anchor\" id=\"1.1\">\n",
    "\n",
    "## Import libraries\n",
    "    \n",
    "</a>"
   ]
  },
  {
   "cell_type": "code",
   "execution_count": null,
   "id": "d1baacac",
   "metadata": {},
   "outputs": [],
   "source": [
    "import warnings\n",
    "warnings.filterwarnings('ignore')\n",
    "import os, sys\n",
    "#hide the warnings\n",
    "\n",
    "sys.stderr = open(os.devnull, \"w\")  # silence stderr\n",
    "from sklearn.ensemble import RandomForestRegressor\n",
    "sys.stderr = sys.__stderr__  # unsilence stderr\n",
    "\n",
    "\n",
    "import numpy as np\n",
    "import pandas as pd\n",
    "import seaborn as sns\n",
    "import matplotlib.pyplot as plt\n",
    "import statsmodels.api as sm\n",
    "from math import ceil\n",
    "import numpy as np\n",
    "import pandas as pd\n",
    "import csv\n",
    "from sklearn import preprocessing\n",
    "from sklearn.cluster import KMeans\n",
    "from sklearn.metrics import silhouette_score, silhouette_samples\n",
    "import matplotlib.cm as cm\n",
    "from sompy.visualization.mapview import View2D\n",
    "from sompy.visualization.bmuhits import BmuHitsView\n",
    "from sompy.visualization.hitmap import HitMapView\n",
    "from sklearn.manifold import TSNE\n",
    "from sklearn.model_selection import train_test_split\n",
    "from sklearn.preprocessing import MinMaxScaler, OneHotEncoder\n",
    "from statsmodels.stats.outliers_influence import variance_inflation_factor\n",
    "import scipy.stats as stats\n",
    "from scipy.stats import chi2_contingency\n",
    "from sklearn.linear_model import LogisticRegression, LinearRegression, LassoCV\n",
    "from sklearn.feature_selection import RFE, mutual_info_classif, mutual_info_regression\n",
    "from sklearn.metrics import r2_score, explained_variance_score, mean_absolute_error, mean_squared_error\n",
    "from sklearn.metrics import median_absolute_error, mutual_info_score\n",
    "from kmodes.kprototypes import KPrototypes\n",
    "from sklearn_extra.cluster import KMedoids\n",
    "from sklearn.cluster import AgglomerativeClustering\n",
    "from scipy.cluster.hierarchy import dendrogram\n",
    "from sklearn.cluster import DBSCAN, KMeans, AgglomerativeClustering\n",
    "from sklearn.base import clone\n",
    "import hypertools as hyp\n",
    "from plotnine import *\n",
    "from sklearn.metrics import pairwise_distances\n",
    "\n",
    "\n",
    "import umap\n",
    "import umap.plot\n",
    "import umap\n",
    "from sklearn.datasets import fetch_openml\n",
    "from sklearn.utils import resample\n",
    "\n",
    "\n",
    "%matplotlib inline\n",
    "# for better resolution plots\n",
    "%config InlineBackend.figure_format = 'retina' # optionally, you can change 'svg' to 'retina'\n",
    "\n",
    "# Seeting seaborn style\n",
    "sns.set(rc={'figure.figsize':(11.7,8.27)})\n",
    "\n"
   ]
  },
  {
   "cell_type": "markdown",
   "id": "0694b101",
   "metadata": {},
   "source": [
    "<a class=\"anchor\" id=\"1.2\">\n",
    "\n",
    "## Import the dataset\n",
    "    \n",
    "</a>"
   ]
  },
  {
   "cell_type": "code",
   "execution_count": null,
   "id": "21c40a67",
   "metadata": {},
   "outputs": [],
   "source": [
    "df = pd.read_sas('a2z_insurance.sas7bdat')\n",
    "df.head()"
   ]
  },
  {
   "cell_type": "markdown",
   "id": "a8e1c164",
   "metadata": {},
   "source": [
    "<div class=\"alert alert-block alert-info\">\n",
    "\n",
    "<a class=\"anchor\" id=\"2\">    </a>\n",
    "# Data Exploration\n",
    "       \n",
    "</div>\n",
    "\n"
   ]
  },
  {
   "cell_type": "markdown",
   "id": "148b4285",
   "metadata": {},
   "source": [
    "[Back to Index](#1.0)"
   ]
  },
  {
   "cell_type": "markdown",
   "id": "4463d60a",
   "metadata": {},
   "source": [
    "<a class=\"anchor\" id=\"2.1\">\n",
    "\n",
    "## Data\n",
    "    \n",
    "</a>"
   ]
  },
  {
   "cell_type": "code",
   "execution_count": null,
   "id": "f36f096b",
   "metadata": {},
   "outputs": [],
   "source": [
    "df.head()"
   ]
  },
  {
   "cell_type": "code",
   "execution_count": null,
   "id": "6033f21c",
   "metadata": {},
   "outputs": [],
   "source": [
    "df.set_index('CustID',inplace=True)\n",
    "df"
   ]
  },
  {
   "cell_type": "code",
   "execution_count": null,
   "id": "88afebe7",
   "metadata": {},
   "outputs": [],
   "source": [
    "df.info()"
   ]
  },
  {
   "cell_type": "code",
   "execution_count": null,
   "id": "9e85db95",
   "metadata": {},
   "outputs": [],
   "source": [
    "df.describe().T"
   ]
  },
  {
   "cell_type": "code",
   "execution_count": null,
   "id": "a90a28f3",
   "metadata": {},
   "outputs": [],
   "source": [
    "#change the variables type\n",
    "\n",
    "df.index = df.index.map(int)\n",
    "df['FirstPolYear'] = df['FirstPolYear'].astype(pd.Int32Dtype())\n",
    "df['BirthYear'] = df['BirthYear'].astype(pd.Int32Dtype())\n",
    "df['GeoLivArea'] = df['GeoLivArea'].astype(pd.Int32Dtype())\n",
    "df['Children'] = df['Children'].astype(pd.Int32Dtype())"
   ]
  },
  {
   "cell_type": "code",
   "execution_count": null,
   "id": "a7427182",
   "metadata": {},
   "outputs": [],
   "source": [
    "df.info()"
   ]
  },
  {
   "cell_type": "markdown",
   "id": "f80dbdcf",
   "metadata": {},
   "source": [
    "<a class=\"anchor\" id=\"2.2\">\n",
    "\n",
    "## Visualization\n",
    "    \n",
    "</a>"
   ]
  },
  {
   "cell_type": "markdown",
   "id": "903a32c1",
   "metadata": {},
   "source": [
    "[Back to Index](#1.0)"
   ]
  },
  {
   "cell_type": "code",
   "execution_count": null,
   "id": "70cee9d6",
   "metadata": {},
   "outputs": [],
   "source": [
    "#define metric and non-metric\n",
    "\n",
    "non_metric_features = [\"Children\",\"EducDeg\",'GeoLivArea']\n",
    "metric_features = df.columns.drop(non_metric_features).to_list()\n",
    "metric_features"
   ]
  },
  {
   "cell_type": "code",
   "execution_count": null,
   "id": "c01e8170",
   "metadata": {},
   "outputs": [],
   "source": [
    "# All Numeric Variables' Histograms in one figure\n",
    "sns.set()\n",
    "\n",
    "# Prepare figure. Create individual axes where each histogram will be placed\n",
    "fig, axes = plt.subplots(2, ceil(len(metric_features) / 2), figsize=(20, 11))\n",
    "\n",
    "# Plot data\n",
    "# Iterate across axes objects and associate each histogram (hint: use the ax.hist() instead of plt.hist()):\n",
    "for ax, feat in zip(axes.flatten(), metric_features): # Notice the zip() function and flatten() method\n",
    "    ax.hist(df[feat][~np.isnan(df[feat])])\n",
    "    ax.set_title(feat, y=-0.13)\n",
    "    \n",
    "# Layout\n",
    "# Add a centered title to the figure:\n",
    "title = \"Numeric Variables' Histograms\"\n",
    "\n",
    "plt.suptitle(title)\n",
    "\n",
    "plt.show()"
   ]
  },
  {
   "cell_type": "code",
   "execution_count": null,
   "id": "647a6a25",
   "metadata": {
    "scrolled": false
   },
   "outputs": [],
   "source": [
    "for column in df[metric_features]:\n",
    "        plt.figure(figsize=(17,1))\n",
    "        sns.boxplot(data=df, x=column)"
   ]
  },
  {
   "cell_type": "code",
   "execution_count": null,
   "id": "7c054383",
   "metadata": {},
   "outputs": [],
   "source": [
    "sns.set()\n",
    "# Setting pairplot\n",
    "sns.pairplot(df, diag_kind=\"hist\",corner=True)\n",
    "# Layout\n",
    "plt.subplots_adjust(top=0.95)\n",
    "plt.suptitle(\"Pairwise Relationship of Numerical Variables\", fontsize=20)\n",
    "\n",
    "plt.show()"
   ]
  },
  {
   "cell_type": "markdown",
   "id": "77392b06",
   "metadata": {},
   "source": [
    "<a class=\"anchor\" id=\"2.3\">\n",
    "\n",
    "## Correlation Check\n",
    "    \n",
    "</a>"
   ]
  },
  {
   "cell_type": "markdown",
   "id": "67c957f3",
   "metadata": {},
   "source": [
    "[Back to Index](#1.0)"
   ]
  },
  {
   "cell_type": "code",
   "execution_count": null,
   "id": "acc4ab9d",
   "metadata": {},
   "outputs": [],
   "source": [
    "# plot the heatmap\n",
    "def corr_heatmap(corr):\n",
    "    sns.heatmap(data = corr, annot = True, cmap = sns.color_palette(\"coolwarm\", 50), \n",
    "                fmt = '0.1f', mask = np.triu(corr))\n",
    "    plt.title(\"Correlation Plot\", fontsize = 20, fontweight = 'bold')\n",
    "    plt.show()"
   ]
  },
  {
   "cell_type": "code",
   "execution_count": null,
   "id": "bdb69380",
   "metadata": {
    "scrolled": false
   },
   "outputs": [],
   "source": [
    "df_corr = df.corr()\n",
    "corr_heatmap(df_corr)"
   ]
  },
  {
   "cell_type": "code",
   "execution_count": null,
   "id": "0144ce52",
   "metadata": {},
   "outputs": [],
   "source": [
    "df_corr"
   ]
  },
  {
   "cell_type": "markdown",
   "id": "4b8e8ca9",
   "metadata": {},
   "source": [
    "<div class=\"alert alert-block alert-info\">\n",
    "\n",
    "<a class=\"anchor\" id=\"3\">    </a>\n",
    "# Preprocessing\n",
    "       \n",
    "</div>\n",
    "\n"
   ]
  },
  {
   "cell_type": "markdown",
   "id": "0087c112",
   "metadata": {},
   "source": [
    "<a class=\"anchor\" id=\"3.1\">\n",
    "\n",
    "## Duplicates\n",
    "    \n",
    "</a>"
   ]
  },
  {
   "cell_type": "markdown",
   "id": "744f207d",
   "metadata": {},
   "source": [
    "[Back to Index](#1.0)"
   ]
  },
  {
   "cell_type": "code",
   "execution_count": null,
   "id": "f36d6a30",
   "metadata": {},
   "outputs": [],
   "source": [
    "df[df.duplicated()]"
   ]
  },
  {
   "cell_type": "code",
   "execution_count": null,
   "id": "9a721227",
   "metadata": {},
   "outputs": [],
   "source": [
    "len(df)"
   ]
  },
  {
   "cell_type": "code",
   "execution_count": null,
   "id": "379e0b03",
   "metadata": {},
   "outputs": [],
   "source": [
    "df.drop_duplicates(inplace = True)"
   ]
  },
  {
   "cell_type": "code",
   "execution_count": null,
   "id": "7457a985",
   "metadata": {},
   "outputs": [],
   "source": [
    "len(df)"
   ]
  },
  {
   "cell_type": "markdown",
   "id": "292dc18b",
   "metadata": {},
   "source": [
    "<a class=\"anchor\" id=\"3.2\">\n",
    "\n",
    "## Outliers Removal\n",
    "    \n",
    "</a>"
   ]
  },
  {
   "cell_type": "markdown",
   "id": "a9559e9b",
   "metadata": {},
   "source": [
    "[Back to Index](#1.0)"
   ]
  },
  {
   "cell_type": "code",
   "execution_count": null,
   "id": "e768be6c",
   "metadata": {},
   "outputs": [],
   "source": [
    "non_metric_features = [\"Children\",\"EducDeg\",'GeoLivArea']\n",
    "metric_features = df.columns.drop(non_metric_features).to_list()\n",
    "metric_features"
   ]
  },
  {
   "cell_type": "code",
   "execution_count": null,
   "id": "02ca0edb",
   "metadata": {
    "scrolled": false
   },
   "outputs": [],
   "source": [
    "for column in df[metric_features]:\n",
    "        plt.figure(figsize=(17,1))\n",
    "        sns.boxplot(data=df, x=column)"
   ]
  },
  {
   "cell_type": "code",
   "execution_count": null,
   "id": "e153b120",
   "metadata": {
    "scrolled": false
   },
   "outputs": [],
   "source": [
    "q25 = df.quantile(.25)\n",
    "q75 = df.quantile(.75)\n",
    "iqr = (q75 - q25)\n",
    "\n",
    "upper_lim = q75 + 1.5 * iqr\n",
    "lower_lim = q25 - 1.5 * iqr\n",
    "\n",
    "for column in df[metric_features]:\n",
    "    llim = lower_lim[column]\n",
    "    ulim = upper_lim[column]\n",
    "    print(column,\": \",llim,\",\",ulim)"
   ]
  },
  {
   "cell_type": "code",
   "execution_count": null,
   "id": "63e21c25",
   "metadata": {},
   "outputs": [],
   "source": [
    "df_no_outliers = df.copy()"
   ]
  },
  {
   "cell_type": "code",
   "execution_count": null,
   "id": "3acd4912",
   "metadata": {
    "scrolled": false
   },
   "outputs": [],
   "source": [
    "filters = (\n",
    "    (df_no_outliers['FirstPolYear'] <= 2010) &\n",
    "    (df_no_outliers['BirthYear'] <= 2000) & (df_no_outliers['BirthYear'] >= 1897) &\n",
    "    (df_no_outliers['CustMonVal'] <= 1013) & (df_no_outliers['CustMonVal'] >= -624) &\n",
    "    (df_no_outliers['MonthSal'] <= 5666) &\n",
    "    (df_no_outliers['ClaimsRate'] >= -0.495) & (df_no_outliers['ClaimsRate'] <= 1.865) &\n",
    "    (df_no_outliers['PremMotor'] <= 800 ) &\n",
    "    (df_no_outliers['PremHousehold'] < 1350) &\n",
    "    (df_no_outliers['PremHealth'] < 382) &\n",
    "    (df_no_outliers['PremLife'] < 285) &\n",
    "    (df_no_outliers['PremWork'] < 300)\n",
    "    \n",
    ")\n",
    "\n",
    "print('Percentage of data kept after removing outliers:', \n",
    "      np.round(df_no_outliers[filters].shape[0] / df_no_outliers.shape[0], 4))\n",
    "\n",
    "#df_no_outliers = df_no_outliers[filters]"
   ]
  },
  {
   "cell_type": "code",
   "execution_count": null,
   "id": "1e10fe99",
   "metadata": {},
   "outputs": [],
   "source": [
    "df_no_outliers['FirstPolYear'][(df_no_outliers['FirstPolYear'] >= 2010)] = pd.NA\n",
    "df_no_outliers['BirthYear'][(df_no_outliers['BirthYear'] >= 2000) | (df_no_outliers['BirthYear'] <= 1897)] = pd.NA\n",
    "df_no_outliers['CustMonVal'][(df_no_outliers['CustMonVal'] <= -624) | (df_no_outliers['CustMonVal'] >= 1013)] = pd.NA\n",
    "df_no_outliers['ClaimsRate'][(df_no_outliers['ClaimsRate'] <= -0.495) | (df_no_outliers['ClaimsRate'] >= 1.865)] = pd.NA\n",
    "df_no_outliers['MonthSal'][(df_no_outliers['MonthSal'] >= 5666)] = pd.NA\n",
    "df_no_outliers['PremMotor'][(df_no_outliers['PremMotor'] >= 800)] = pd.NA\n",
    "df_no_outliers['PremHousehold'][(df_no_outliers['PremHousehold'] >= 1350)] = pd.NA\n",
    "df_no_outliers['PremHealth'][(df_no_outliers['PremHealth'] >= 382)] = pd.NA\n",
    "df_no_outliers['PremLife'][(df_no_outliers['PremLife'] >= 285)] = pd.NA\n",
    "df_no_outliers['PremWork'][(df_no_outliers['PremWork'] >= 300)] = pd.NA"
   ]
  },
  {
   "cell_type": "code",
   "execution_count": null,
   "id": "e349dc97",
   "metadata": {},
   "outputs": [],
   "source": [
    "for column in df_no_outliers[metric_features]:\n",
    "        plt.figure(figsize=(17,1))\n",
    "        sns.boxplot(data=df_no_outliers, x=column)"
   ]
  },
  {
   "cell_type": "code",
   "execution_count": null,
   "id": "33fc5e0f",
   "metadata": {
    "scrolled": false
   },
   "outputs": [],
   "source": [
    "# All Numeric Variables' Histograms in one figure\n",
    "sns.set()\n",
    "\n",
    "# Prepare figure. Create individual axes where each histogram will be placed\n",
    "fig, axes = plt.subplots(2, ceil(len(metric_features) / 2), figsize=(20, 11))\n",
    "\n",
    "# Plot data\n",
    "# Iterate across axes objects and associate each histogram (hint: use the ax.hist() instead of plt.hist()):\n",
    "for ax, feat in zip(axes.flatten(), metric_features): # Notice the zip() function and flatten() method\n",
    "    ax.hist(df_no_outliers[feat][~np.isnan(df_no_outliers[feat])])\n",
    "    ax.set_title(feat, y=-0.13)\n",
    "    \n",
    "# Layout\n",
    "# Add a centered title to the figure:\n",
    "title = \"Numeric Variables' Histograms\"\n",
    "\n",
    "plt.suptitle(title)\n",
    "\n",
    "plt.show()"
   ]
  },
  {
   "cell_type": "markdown",
   "id": "5fff1e80",
   "metadata": {},
   "source": [
    "<a class=\"anchor\" id=\"3.3\">\n",
    "\n",
    "## Missing Values\n",
    "    \n",
    "</a>"
   ]
  },
  {
   "cell_type": "markdown",
   "id": "cb853316",
   "metadata": {},
   "source": [
    "[Back to Index](#1.0)"
   ]
  },
  {
   "cell_type": "markdown",
   "id": "8853195e",
   "metadata": {},
   "source": [
    "<a class=\"anchor\" id=\"3.3.1\">\n",
    "\n",
    "### Non-Metric Features\n",
    "    \n",
    "</a>"
   ]
  },
  {
   "cell_type": "code",
   "execution_count": null,
   "id": "d1cded01",
   "metadata": {},
   "outputs": [],
   "source": [
    "for column in df_no_outliers[non_metric_features]:\n",
    "    print(df_no_outliers[column].value_counts())"
   ]
  },
  {
   "cell_type": "code",
   "execution_count": null,
   "id": "ffbf86e3",
   "metadata": {
    "scrolled": true
   },
   "outputs": [],
   "source": [
    "df_no_outliers[non_metric_features].isna().sum()"
   ]
  },
  {
   "cell_type": "markdown",
   "id": "10d549cb",
   "metadata": {},
   "source": [
    "<a class=\"anchor\" id=\"3.3.1.1\">\n",
    "\n",
    "#### Education\n",
    "    \n",
    "</a>"
   ]
  },
  {
   "cell_type": "code",
   "execution_count": null,
   "id": "a434e458",
   "metadata": {},
   "outputs": [],
   "source": [
    "df_no_outliers['EducDeg'].mode()"
   ]
  },
  {
   "cell_type": "code",
   "execution_count": null,
   "id": "28d0348e",
   "metadata": {},
   "outputs": [],
   "source": [
    "df_no_outliers['EducDeg'].fillna(df_no_outliers['EducDeg'].mode()[0], inplace=True)"
   ]
  },
  {
   "cell_type": "code",
   "execution_count": null,
   "id": "040a9dcd",
   "metadata": {
    "scrolled": false
   },
   "outputs": [],
   "source": [
    "df_no_outliers[non_metric_features].isna().sum()"
   ]
  },
  {
   "cell_type": "markdown",
   "id": "148fd3fd",
   "metadata": {},
   "source": [
    "<a class=\"anchor\" id=\"3.3.1.2\">\n",
    "\n",
    "#### GeoLivArea\n",
    "    \n",
    "</a>"
   ]
  },
  {
   "cell_type": "code",
   "execution_count": null,
   "id": "b487372c",
   "metadata": {},
   "outputs": [],
   "source": [
    "df_no_outliers['GeoLivArea'].mode()"
   ]
  },
  {
   "cell_type": "code",
   "execution_count": null,
   "id": "64595246",
   "metadata": {},
   "outputs": [],
   "source": [
    "df_no_outliers['GeoLivArea'].fillna(df_no_outliers['GeoLivArea'].mode()[0], inplace=True)"
   ]
  },
  {
   "cell_type": "code",
   "execution_count": null,
   "id": "bb195837",
   "metadata": {
    "scrolled": true
   },
   "outputs": [],
   "source": [
    "df_no_outliers[non_metric_features].isna().sum()"
   ]
  },
  {
   "cell_type": "markdown",
   "id": "4f3523ff",
   "metadata": {},
   "source": [
    "<a class=\"anchor\" id=\"3.3.1.3\">\n",
    "\n",
    "#### Children\n",
    "    \n",
    "</a>"
   ]
  },
  {
   "cell_type": "code",
   "execution_count": null,
   "id": "4c8407f5",
   "metadata": {},
   "outputs": [],
   "source": [
    "df_no_outliers['Children'].mode()"
   ]
  },
  {
   "cell_type": "code",
   "execution_count": null,
   "id": "520dd559",
   "metadata": {},
   "outputs": [],
   "source": [
    "df_no_outliers['Children'].fillna(df_no_outliers['Children'].mode()[0], inplace=True)"
   ]
  },
  {
   "cell_type": "code",
   "execution_count": null,
   "id": "d46d8699",
   "metadata": {
    "scrolled": true
   },
   "outputs": [],
   "source": [
    "df_no_outliers[non_metric_features].isna().sum()"
   ]
  },
  {
   "cell_type": "markdown",
   "id": "cad7ce2a",
   "metadata": {},
   "source": [
    "<a class=\"anchor\" id=\"3.3.2\">\n",
    "\n",
    "### Metric Features\n",
    "    \n",
    "</a>"
   ]
  },
  {
   "cell_type": "code",
   "execution_count": null,
   "id": "41eb7f30",
   "metadata": {},
   "outputs": [],
   "source": [
    "metric_features"
   ]
  },
  {
   "cell_type": "code",
   "execution_count": null,
   "id": "36e067ef",
   "metadata": {
    "scrolled": true
   },
   "outputs": [],
   "source": [
    "df_no_outliers[metric_features].isna().sum()"
   ]
  },
  {
   "cell_type": "markdown",
   "id": "c4af0e10",
   "metadata": {},
   "source": [
    "<a class=\"anchor\" id=\"3.3.2.1\">\n",
    "\n",
    "#### FirstPolYear\n",
    "    \n",
    "</a>"
   ]
  },
  {
   "cell_type": "code",
   "execution_count": null,
   "id": "eb9056a6",
   "metadata": {},
   "outputs": [],
   "source": [
    "df_no_outliers['FirstPolYear'].median()"
   ]
  },
  {
   "cell_type": "code",
   "execution_count": null,
   "id": "f33a9753",
   "metadata": {},
   "outputs": [],
   "source": [
    "df_no_outliers['FirstPolYear'].fillna(df_no_outliers['FirstPolYear'].median(), inplace=True)"
   ]
  },
  {
   "cell_type": "code",
   "execution_count": null,
   "id": "e8609e8f",
   "metadata": {},
   "outputs": [],
   "source": [
    "df_no_outliers[metric_features].isna().sum()"
   ]
  },
  {
   "cell_type": "markdown",
   "id": "8ac7cfd4",
   "metadata": {},
   "source": [
    "<a class=\"anchor\" id=\"3.3.2.2\">\n",
    "\n",
    "#### Age\n",
    "    \n",
    "</a>"
   ]
  },
  {
   "cell_type": "code",
   "execution_count": null,
   "id": "61c59d11",
   "metadata": {},
   "outputs": [],
   "source": [
    "df_no_outliers['BirthYear'].median()"
   ]
  },
  {
   "cell_type": "code",
   "execution_count": null,
   "id": "3b1c42ed",
   "metadata": {},
   "outputs": [],
   "source": [
    "df_no_outliers['BirthYear'].fillna(df_no_outliers['BirthYear'].median(), inplace=True)"
   ]
  },
  {
   "cell_type": "code",
   "execution_count": null,
   "id": "1fb97f9d",
   "metadata": {
    "scrolled": true
   },
   "outputs": [],
   "source": [
    "df_no_outliers[metric_features].isna().sum()"
   ]
  },
  {
   "cell_type": "markdown",
   "id": "ee333d49",
   "metadata": {},
   "source": [
    "<a class=\"anchor\" id=\"3.3.2.3\">\n",
    "\n",
    "#### Monthly Salary\n",
    "    \n",
    "</a>"
   ]
  },
  {
   "cell_type": "code",
   "execution_count": null,
   "id": "f53d83b4",
   "metadata": {},
   "outputs": [],
   "source": [
    "df_no_outliers['MonthSal'].median()"
   ]
  },
  {
   "cell_type": "code",
   "execution_count": null,
   "id": "44e6d4df",
   "metadata": {},
   "outputs": [],
   "source": [
    "df_no_outliers['MonthSal'].fillna(df_no_outliers['MonthSal'].median(), inplace=True)\n",
    "#mean or median(); No need of [0] because it returns a float value."
   ]
  },
  {
   "cell_type": "code",
   "execution_count": null,
   "id": "1c0a119e",
   "metadata": {
    "scrolled": true
   },
   "outputs": [],
   "source": [
    "df_no_outliers[metric_features].isna().sum()"
   ]
  },
  {
   "cell_type": "markdown",
   "id": "a3b80c23",
   "metadata": {},
   "source": [
    "<a class=\"anchor\" id=\"3.3.2.4\">\n",
    "\n",
    "#### CustMonVal\n",
    "    \n",
    "</a>"
   ]
  },
  {
   "cell_type": "code",
   "execution_count": null,
   "id": "b3204f8e",
   "metadata": {},
   "outputs": [],
   "source": [
    "df_no_outliers['CustMonVal'].median()"
   ]
  },
  {
   "cell_type": "code",
   "execution_count": null,
   "id": "4a3babed",
   "metadata": {},
   "outputs": [],
   "source": [
    "df_no_outliers['CustMonVal'].fillna(df_no_outliers['CustMonVal'].median(), inplace=True)\n",
    "#mean or median(); No need of [0] because it returns a float value."
   ]
  },
  {
   "cell_type": "code",
   "execution_count": null,
   "id": "b29e3cc4",
   "metadata": {
    "scrolled": true
   },
   "outputs": [],
   "source": [
    "df_no_outliers[metric_features].isna().sum()"
   ]
  },
  {
   "cell_type": "markdown",
   "id": "f9c66a3a",
   "metadata": {},
   "source": [
    "<a class=\"anchor\" id=\"3.3.2.5\">\n",
    "\n",
    "#### ClaimsRate\n",
    "    \n",
    "</a>"
   ]
  },
  {
   "cell_type": "code",
   "execution_count": null,
   "id": "89b15062",
   "metadata": {},
   "outputs": [],
   "source": [
    "df_no_outliers['ClaimsRate'].median()"
   ]
  },
  {
   "cell_type": "code",
   "execution_count": null,
   "id": "78cc9aaa",
   "metadata": {},
   "outputs": [],
   "source": [
    "df_no_outliers['ClaimsRate'].fillna(df_no_outliers['ClaimsRate'].median(), inplace=True)\n",
    "#mean or median(); No need of [0] because it returns a float value."
   ]
  },
  {
   "cell_type": "code",
   "execution_count": null,
   "id": "2480e6f5",
   "metadata": {
    "scrolled": true
   },
   "outputs": [],
   "source": [
    "df_no_outliers[metric_features].isna().sum()"
   ]
  },
  {
   "cell_type": "markdown",
   "id": "e3c0b607",
   "metadata": {},
   "source": [
    "<a class=\"anchor\" id=\"3.3.2.6\">\n",
    "\n",
    "#### Premiums\n",
    "    \n",
    "</a>"
   ]
  },
  {
   "cell_type": "code",
   "execution_count": null,
   "id": "d8988097",
   "metadata": {
    "scrolled": false
   },
   "outputs": [],
   "source": [
    "df_no_outliers.loc[df_no_outliers['PremHousehold']==0]"
   ]
  },
  {
   "cell_type": "code",
   "execution_count": null,
   "id": "859c732a",
   "metadata": {},
   "outputs": [],
   "source": [
    "df_no_outliers.loc[863]"
   ]
  },
  {
   "cell_type": "code",
   "execution_count": null,
   "id": "bee48513",
   "metadata": {
    "scrolled": false
   },
   "outputs": [],
   "source": [
    "df_no_outliers.loc[(df_no_outliers['CustMonVal']==-25) & (df_no_outliers['ClaimsRate']==0)]\n",
    "#CustMonVal = (annual profit from the customer) X (number of years that they are a customer) - (acquisition cost)\n",
    "#acquisition cost = 25, because ClaimsRate = 0 (Amount paid by the insurance company (€)(0)/ Premiums (€)(0)) - not our client in 2016"
   ]
  },
  {
   "cell_type": "code",
   "execution_count": null,
   "id": "0431af70",
   "metadata": {
    "scrolled": false
   },
   "outputs": [],
   "source": [
    "df_no_outliers.loc[(df_no_outliers['CustMonVal']==-25) & (df_no_outliers['ClaimsRate']==1)]\n",
    "#CustMonVal = (annual profit from the customer) X (number of years that they are a customer) - (acquisition cost)\n",
    "#acquisition cost = 25, because ClaimsRate = 1 (Amount paid by the insurance company (€)(x)/ Premiums (€)(x)) - note 2 years"
   ]
  },
  {
   "cell_type": "code",
   "execution_count": null,
   "id": "041792a6",
   "metadata": {},
   "outputs": [],
   "source": [
    "# Filled nan values in insurance expenses with 0\n",
    "df_no_outliers['PremMotor'].fillna(0, inplace = True)\n",
    "df_no_outliers['PremHealth'].fillna(0, inplace = True)\n",
    "df_no_outliers['PremLife'].fillna(0, inplace = True)\n",
    "df_no_outliers['PremWork'].fillna(0, inplace = True)\n",
    "df_no_outliers['PremHousehold'].fillna(0, inplace = True)"
   ]
  },
  {
   "cell_type": "code",
   "execution_count": null,
   "id": "981af1ef",
   "metadata": {},
   "outputs": [],
   "source": [
    "df_no_outliers.loc[(df_no_outliers['CustMonVal']==-25) & (df_no_outliers['ClaimsRate']==0)]\n",
    "#CustMonVal = (annual profit from the customer) X (number of years that they are a customer) - (acquisition cost)\n",
    "#acquisition cost = 25, because ClaimsRate = 0 (Amount paid by the insurance company (€)(0)/ Premiums (€)(0)) - not our client in 2016"
   ]
  },
  {
   "cell_type": "code",
   "execution_count": null,
   "id": "f8faad04",
   "metadata": {},
   "outputs": [],
   "source": [
    "df_no_outliers.isna().sum()"
   ]
  },
  {
   "cell_type": "markdown",
   "id": "39dc297f",
   "metadata": {},
   "source": [
    "<a class=\"anchor\" id=\"3.4\">\n",
    "\n",
    "## Visualization\n",
    "    \n",
    "</a>"
   ]
  },
  {
   "cell_type": "code",
   "execution_count": null,
   "id": "d207b0eb",
   "metadata": {},
   "outputs": [],
   "source": [
    "import matplotlib.pyplot as plt\n",
    "import seaborn as sns\n",
    "\n",
    "def corrdot(*args, **kwargs):\n",
    "    corr_r = args[0].corr(args[1], 'spearman')\n",
    "    corr_text = f\"{corr_r:2.2f}\".replace(\"0.\", \".\")\n",
    "    ax = plt.gca()\n",
    "    ax.set_axis_off()\n",
    "    marker_size = abs(corr_r) * 10000\n",
    "    ax.scatter([.5], [.5], marker_size, [corr_r], alpha=0.6, cmap=\"coolwarm\",\n",
    "               vmin=-1, vmax=1, transform=ax.transAxes)\n",
    "    font_size = abs(corr_r) * 40 + 5\n",
    "    ax.annotate(corr_text, [.5, .5,],  xycoords=\"axes fraction\",\n",
    "                ha='center', va='center', fontsize=font_size)\n",
    "\n"
   ]
  },
  {
   "cell_type": "code",
   "execution_count": null,
   "id": "c582a305",
   "metadata": {},
   "outputs": [],
   "source": [
    "sns.set(style='white', font_scale=1.6)\n",
    "g = sns.PairGrid(df_no_outliers, aspect=1.4, diag_sharey=False)\n",
    "g.map_lower(sns.regplot, lowess=True, ci=False, line_kws={'color': 'black'})\n",
    "g.map_diag(sns.distplot, kde_kws={'color': 'black'})\n",
    "g.map_upper(corrdot)"
   ]
  },
  {
   "cell_type": "markdown",
   "id": "3737552d",
   "metadata": {},
   "source": [
    "<a class=\"anchor\" id=\"3.5\">\n",
    "\n",
    "## Coherence\n",
    "    \n",
    "</a>"
   ]
  },
  {
   "cell_type": "markdown",
   "id": "d67e87b0",
   "metadata": {},
   "source": [
    "[Back to Index](#1.0)"
   ]
  },
  {
   "cell_type": "code",
   "execution_count": null,
   "id": "0f1bf913",
   "metadata": {},
   "outputs": [],
   "source": [
    "df_coherence = df_no_outliers.copy()"
   ]
  },
  {
   "cell_type": "code",
   "execution_count": null,
   "id": "ff5a9bd4",
   "metadata": {
    "scrolled": false
   },
   "outputs": [],
   "source": [
    "df_coherence.describe().T"
   ]
  },
  {
   "cell_type": "markdown",
   "id": "68de5a8c",
   "metadata": {},
   "source": [
    "For a large dataset, vectorization of the code gave the best performance improvement of around 700x over the apply function. So, it is best practice to use vectorization for manipulating a large dataset. -https://towardsdatascience.com/dont-use-apply-in-python-there-are-better-alternatives-dc6364968f44"
   ]
  },
  {
   "cell_type": "markdown",
   "id": "0e27226f",
   "metadata": {},
   "source": [
    "<a class=\"anchor\" id=\"3.4.1\">\n",
    "\n",
    "### Birth Year\n",
    "    \n",
    "</a>"
   ]
  },
  {
   "cell_type": "code",
   "execution_count": null,
   "id": "439f0c3f",
   "metadata": {
    "scrolled": true
   },
   "outputs": [],
   "source": [
    "df_coherence.loc[(df_coherence['BirthYear']<=1897) | (df_coherence['BirthYear']>=2000)].value_counts().sum()"
   ]
  },
  {
   "cell_type": "markdown",
   "id": "d8d76f00",
   "metadata": {},
   "source": [
    "<a class=\"anchor\" id=\"3.4.2\">\n",
    "\n",
    "### Birth Year and FirstPolYear\n",
    "    \n",
    "</a>"
   ]
  },
  {
   "cell_type": "code",
   "execution_count": null,
   "id": "6e535857",
   "metadata": {},
   "outputs": [],
   "source": [
    "df_coherence.loc[df_coherence['BirthYear']+16>df_coherence['FirstPolYear']].value_counts().sum()"
   ]
  },
  {
   "cell_type": "code",
   "execution_count": null,
   "id": "c581053f",
   "metadata": {
    "scrolled": true
   },
   "outputs": [],
   "source": [
    "df_coherence.loc[df_coherence['BirthYear']+16>df_coherence['FirstPolYear']].head()"
   ]
  },
  {
   "cell_type": "code",
   "execution_count": null,
   "id": "dcde8ecf",
   "metadata": {},
   "outputs": [],
   "source": [
    "pd.crosstab(df_coherence['BirthYear']==1998,df_coherence['EducDeg'])"
   ]
  },
  {
   "cell_type": "code",
   "execution_count": null,
   "id": "8d556442",
   "metadata": {},
   "outputs": [],
   "source": [
    "pd.crosstab(df_coherence['BirthYear']>=1998,df_coherence['Children'])"
   ]
  },
  {
   "cell_type": "code",
   "execution_count": null,
   "id": "00b6e313",
   "metadata": {},
   "outputs": [],
   "source": [
    "pd.crosstab(df_coherence['BirthYear']>=1996,df_coherence['MonthSal']>1500)"
   ]
  },
  {
   "cell_type": "code",
   "execution_count": null,
   "id": "c3dbf494",
   "metadata": {},
   "outputs": [],
   "source": [
    "pd.crosstab(df_coherence['BirthYear']>=1998,df_coherence['PremHousehold']!=0)"
   ]
  },
  {
   "cell_type": "code",
   "execution_count": null,
   "id": "475a1e12",
   "metadata": {},
   "outputs": [],
   "source": [
    "#we dont have way to check coherence of FirstPolicyYear and we checked the coherence of birth year and seems okay. Well delete FirstPolicyYear"
   ]
  },
  {
   "cell_type": "code",
   "execution_count": null,
   "id": "2702ad0f",
   "metadata": {},
   "outputs": [],
   "source": [
    "#FirstPolYear is WRONG\n",
    "df_coherence.drop('FirstPolYear', axis=1, inplace=True)"
   ]
  },
  {
   "cell_type": "code",
   "execution_count": null,
   "id": "2e387355",
   "metadata": {},
   "outputs": [],
   "source": [
    "df_coherence"
   ]
  },
  {
   "cell_type": "code",
   "execution_count": null,
   "id": "c1897dd5",
   "metadata": {},
   "outputs": [],
   "source": [
    "#We assume that FirstPolYear is wrong, since the rest of the data become consistent if we ignore it. This is because if\n",
    "#the other way around (assuming BirthYear is wrong) we would still have probably incoherent data like\n",
    "# salary, children, education"
   ]
  },
  {
   "cell_type": "markdown",
   "id": "7bee90ee",
   "metadata": {},
   "source": [
    "<a class=\"anchor\" id=\"3.4.3\">\n",
    "\n",
    "### Birth Year and Education\n",
    "    \n",
    "</a>"
   ]
  },
  {
   "cell_type": "code",
   "execution_count": null,
   "id": "10f014b8",
   "metadata": {},
   "outputs": [],
   "source": [
    "#b'1 - Basic' & <14"
   ]
  },
  {
   "cell_type": "code",
   "execution_count": null,
   "id": "91a55593",
   "metadata": {},
   "outputs": [],
   "source": [
    "pd.crosstab(df_coherence['BirthYear']>2002,df_coherence['EducDeg'])"
   ]
  },
  {
   "cell_type": "code",
   "execution_count": null,
   "id": "9c0d5a06",
   "metadata": {},
   "outputs": [],
   "source": [
    "#b'2 - High School' & <18"
   ]
  },
  {
   "cell_type": "code",
   "execution_count": null,
   "id": "93fef8d4",
   "metadata": {},
   "outputs": [],
   "source": [
    "pd.crosstab(df_coherence['BirthYear']>1998,df_coherence['EducDeg'])"
   ]
  },
  {
   "cell_type": "code",
   "execution_count": null,
   "id": "422ff923",
   "metadata": {},
   "outputs": [],
   "source": [
    "#b'3 - BSc/MSc' & < 20"
   ]
  },
  {
   "cell_type": "code",
   "execution_count": null,
   "id": "14efdc98",
   "metadata": {
    "scrolled": true
   },
   "outputs": [],
   "source": [
    "pd.crosstab(df_coherence['BirthYear']>1996,df_coherence['EducDeg'])"
   ]
  },
  {
   "cell_type": "code",
   "execution_count": null,
   "id": "59e8734e",
   "metadata": {},
   "outputs": [],
   "source": [
    "#b'4 - PhD' & < 23"
   ]
  },
  {
   "cell_type": "code",
   "execution_count": null,
   "id": "5c4313dd",
   "metadata": {
    "scrolled": false
   },
   "outputs": [],
   "source": [
    "pd.crosstab(df_coherence['BirthYear']>1993,df_coherence['EducDeg'])"
   ]
  },
  {
   "cell_type": "code",
   "execution_count": null,
   "id": "998c497d",
   "metadata": {
    "scrolled": true
   },
   "outputs": [],
   "source": [
    "df_coherence.isnull().sum()"
   ]
  },
  {
   "cell_type": "markdown",
   "id": "28f102ef",
   "metadata": {},
   "source": [
    "<a class=\"anchor\" id=\"3.6\">\n",
    "\n",
    "## Skewness\n",
    "    \n",
    "</a>"
   ]
  },
  {
   "cell_type": "code",
   "execution_count": null,
   "id": "519ac89e",
   "metadata": {},
   "outputs": [],
   "source": [
    "df_skew = df_coherence.copy()"
   ]
  },
  {
   "cell_type": "code",
   "execution_count": null,
   "id": "0d68ec05",
   "metadata": {},
   "outputs": [],
   "source": [
    "non_metric_features = [\"Children\",\"EducDeg\",'GeoLivArea']\n",
    "metric_features = df_skew.columns.drop(non_metric_features).to_list()\n",
    "metric_features"
   ]
  },
  {
   "cell_type": "code",
   "execution_count": null,
   "id": "085e8205",
   "metadata": {},
   "outputs": [],
   "source": [
    "from sklearn import preprocessing"
   ]
  },
  {
   "cell_type": "code",
   "execution_count": null,
   "id": "68e0c839",
   "metadata": {},
   "outputs": [],
   "source": [
    "scaler = preprocessing.MinMaxScaler()\n"
   ]
  },
  {
   "cell_type": "code",
   "execution_count": null,
   "id": "cd9e42cf",
   "metadata": {
    "scrolled": false
   },
   "outputs": [],
   "source": [
    "scaled_feat = scaler.fit_transform(df_skew[metric_features])\n",
    "df_skew[metric_features] = scaled_feat"
   ]
  },
  {
   "cell_type": "code",
   "execution_count": null,
   "id": "2065653a",
   "metadata": {
    "scrolled": false
   },
   "outputs": [],
   "source": [
    "df_skew.describe().T"
   ]
  },
  {
   "cell_type": "code",
   "execution_count": null,
   "id": "1bb2aecc",
   "metadata": {},
   "outputs": [],
   "source": [
    "df_skew.isna().sum()"
   ]
  },
  {
   "cell_type": "code",
   "execution_count": null,
   "id": "f23f63af",
   "metadata": {},
   "outputs": [],
   "source": [
    "df_skew[metric_features].skew()\n",
    "#we need values between -0.5 and 0.5"
   ]
  },
  {
   "cell_type": "code",
   "execution_count": null,
   "id": "fd71f937",
   "metadata": {},
   "outputs": [],
   "source": [
    "#df_skew['PremHousehold'][df_skew['PremHousehold'] > 0].min()"
   ]
  },
  {
   "cell_type": "code",
   "execution_count": null,
   "id": "4ec35b55",
   "metadata": {},
   "outputs": [],
   "source": [
    "# df_skew['sqrt_CustMonVal']=np.sqrt(df_skew['CustMonVal'])"
   ]
  },
  {
   "cell_type": "code",
   "execution_count": null,
   "id": "c16e0297",
   "metadata": {},
   "outputs": [],
   "source": [
    "# df_skew['log_CustMonVal']=np.sqrt(df_skew['CustMonVal'])"
   ]
  },
  {
   "cell_type": "code",
   "execution_count": null,
   "id": "61baae03",
   "metadata": {},
   "outputs": [],
   "source": [
    "df_skew['BoxCox_CustMonVal'],parameters=stats.boxcox(df_skew['CustMonVal']+df_skew['CustMonVal'][df_skew['CustMonVal'] > 0].min())"
   ]
  },
  {
   "cell_type": "code",
   "execution_count": null,
   "id": "721c2226",
   "metadata": {},
   "outputs": [],
   "source": [
    "df_skew.drop('CustMonVal', axis=1, inplace=True)"
   ]
  },
  {
   "cell_type": "code",
   "execution_count": null,
   "id": "97a19cd6",
   "metadata": {},
   "outputs": [],
   "source": [
    "# df_skew['sqrt_household']=np.sqrt(df_skew['PremHousehold'])"
   ]
  },
  {
   "cell_type": "code",
   "execution_count": null,
   "id": "5d9ed943",
   "metadata": {},
   "outputs": [],
   "source": [
    "# df_skew['log_household']=np.log10(df_skew['PremHousehold']+df_skew['PremHousehold'][df_skew['PremHousehold'] > 0].min())"
   ]
  },
  {
   "cell_type": "code",
   "execution_count": null,
   "id": "209589f9",
   "metadata": {},
   "outputs": [],
   "source": [
    "df_skew['BoxCox_PremHousehold'],parameters=stats.boxcox(df_skew['PremHousehold']+df_skew['PremHousehold'][df_skew['PremHousehold'] > 0].min())"
   ]
  },
  {
   "cell_type": "code",
   "execution_count": null,
   "id": "fe3070e1",
   "metadata": {},
   "outputs": [],
   "source": [
    "df_skew.drop('PremHousehold', axis=1, inplace=True)"
   ]
  },
  {
   "cell_type": "code",
   "execution_count": null,
   "id": "9df7d206",
   "metadata": {},
   "outputs": [],
   "source": [
    "# df_skew['sqrt_life']=np.sqrt(df_skew['PremLife'])"
   ]
  },
  {
   "cell_type": "code",
   "execution_count": null,
   "id": "b06fb7cd",
   "metadata": {},
   "outputs": [],
   "source": [
    "# df_skew['log_life']=np.log10(df_skew['PremLife']+df_skew['PremLife'][df_skew['PremLife'] > 0].min())"
   ]
  },
  {
   "cell_type": "code",
   "execution_count": null,
   "id": "22cf3689",
   "metadata": {},
   "outputs": [],
   "source": [
    "df_skew['BoxCox_PremLife'],parameters=stats.boxcox(df_skew['PremLife']+df_skew['PremLife'][df_skew['PremLife'] > 0].min())"
   ]
  },
  {
   "cell_type": "code",
   "execution_count": null,
   "id": "5b2a2407",
   "metadata": {},
   "outputs": [],
   "source": [
    "df_skew.drop('PremLife', axis=1, inplace=True)"
   ]
  },
  {
   "cell_type": "code",
   "execution_count": null,
   "id": "3e166345",
   "metadata": {},
   "outputs": [],
   "source": [
    "# df_skew['sqrt_work']=np.sqrt(df_skew['PremWork'])"
   ]
  },
  {
   "cell_type": "code",
   "execution_count": null,
   "id": "90e9d371",
   "metadata": {},
   "outputs": [],
   "source": [
    "# df_skew['log_work']=np.log10(df_skew['PremWork']+df_skew['PremWork'][df_skew['PremWork'] > 0].min())"
   ]
  },
  {
   "cell_type": "code",
   "execution_count": null,
   "id": "b5129e7b",
   "metadata": {},
   "outputs": [],
   "source": [
    "df_skew['BoxCox_PremWork'],parameters=stats.boxcox(df_skew['PremWork']+df_skew['PremWork'][df_skew['PremWork'] > 0].min())"
   ]
  },
  {
   "cell_type": "code",
   "execution_count": null,
   "id": "f540e620",
   "metadata": {},
   "outputs": [],
   "source": [
    "df_skew.drop('PremWork', axis=1, inplace=True)"
   ]
  },
  {
   "cell_type": "code",
   "execution_count": null,
   "id": "511ef12f",
   "metadata": {},
   "outputs": [],
   "source": [
    "df_skew['BoxCox_PremMotor'],parameters=stats.boxcox(df_skew['PremMotor']+df_skew['PremMotor'][df_skew['PremMotor'] > 0].min())"
   ]
  },
  {
   "cell_type": "code",
   "execution_count": null,
   "id": "09f90cf5",
   "metadata": {},
   "outputs": [],
   "source": [
    "df_skew.drop('PremMotor', axis=1, inplace=True)"
   ]
  },
  {
   "cell_type": "code",
   "execution_count": null,
   "id": "d41c17d3",
   "metadata": {},
   "outputs": [],
   "source": [
    "df_skew['BoxCox_PremHealth'],parameters=stats.boxcox(df_skew['PremHealth']+df_skew['PremHealth'][df_skew['PremHealth'] > 0].min())"
   ]
  },
  {
   "cell_type": "code",
   "execution_count": null,
   "id": "373c6638",
   "metadata": {},
   "outputs": [],
   "source": [
    "df_skew.drop('PremHealth', axis=1, inplace=True)"
   ]
  },
  {
   "cell_type": "code",
   "execution_count": null,
   "id": "45badbed",
   "metadata": {},
   "outputs": [],
   "source": [
    "# df_skew['BoxCox_%SalaryInsurance'],parameters=stats.boxcox(df_skew['%SalaryInsurance']+df_skew['%SalaryInsurance'][df_skew['%SalaryInsurance'] > 0].min())"
   ]
  },
  {
   "cell_type": "code",
   "execution_count": null,
   "id": "07229155",
   "metadata": {},
   "outputs": [],
   "source": [
    "# df_skew['log_%SalaryInsurance']=np.log10(df_skew['%SalaryInsurance']+df_skew['%SalaryInsurance'][df_skew['%SalaryInsurance'] > 0].min())"
   ]
  },
  {
   "cell_type": "code",
   "execution_count": null,
   "id": "3984bafc",
   "metadata": {},
   "outputs": [],
   "source": [
    "# df_skew['sqrt_%SalaryInsurance']=np.sqrt(df_skew['%SalaryInsurance'])"
   ]
  },
  {
   "cell_type": "code",
   "execution_count": null,
   "id": "ada47ad3",
   "metadata": {},
   "outputs": [],
   "source": [
    "# df_skew['BoxCox_%SalaryInsuranceHealth'],parameters=stats.boxcox(df_skew['%SalaryInsuranceHealth']+df_skew['%SalaryInsuranceHealth'][df_skew['%SalaryInsuranceHealth'] > 0].min())"
   ]
  },
  {
   "cell_type": "code",
   "execution_count": null,
   "id": "396dc082",
   "metadata": {},
   "outputs": [],
   "source": [
    "# df_skew['BoxCox_%SalaryInsuranceHousehold'],parameters=stats.boxcox(df_skew['%SalaryInsuranceHousehold']+df_skew['%SalaryInsuranceHousehold'][df_skew['%SalaryInsuranceHousehold'] > 0].min())"
   ]
  },
  {
   "cell_type": "code",
   "execution_count": null,
   "id": "8dd41be2",
   "metadata": {},
   "outputs": [],
   "source": [
    "# df_skew['BoxCox_%SalaryInsuranceLife'],parameters=stats.boxcox(df_skew['%SalaryInsuranceLife']+df_skew['%SalaryInsuranceLife'][df_skew['%SalaryInsuranceLife'] > 0].min())"
   ]
  },
  {
   "cell_type": "code",
   "execution_count": null,
   "id": "4696a3a9",
   "metadata": {},
   "outputs": [],
   "source": [
    "# df_skew['BoxCox_%SalaryInsuranceMotor'],parameters=stats.boxcox(df_skew['%SalaryInsuranceMotor']+df_skew['%SalaryInsuranceMotor'][df_skew['%SalaryInsuranceMotor'] > 0].min())"
   ]
  },
  {
   "cell_type": "code",
   "execution_count": null,
   "id": "13d47fac",
   "metadata": {},
   "outputs": [],
   "source": [
    "# df_skew['BoxCox_%SalaryInsuranceWork'],parameters=stats.boxcox(df_skew['%SalaryInsuranceWork']+df_skew['%SalaryInsuranceWork'][df_skew['%SalaryInsuranceWork'] > 0].min())"
   ]
  },
  {
   "cell_type": "code",
   "execution_count": null,
   "id": "37b3a89f",
   "metadata": {},
   "outputs": [],
   "source": [
    "# df_skew['BoxCox_TotalPremiums'],parameters=stats.boxcox(df_skew['TotalPremiums']+df_skew['TotalPremiums'][df_skew['TotalPremiums'] > 0].min())"
   ]
  },
  {
   "cell_type": "code",
   "execution_count": null,
   "id": "b060f92c",
   "metadata": {},
   "outputs": [],
   "source": [
    "non_metric_features = [\"Children\",\"EducDeg\",'GeoLivArea']\n",
    "metric_features = df_skew.columns.drop(non_metric_features).to_list()\n",
    "metric_features"
   ]
  },
  {
   "cell_type": "code",
   "execution_count": null,
   "id": "756e331d",
   "metadata": {},
   "outputs": [],
   "source": [
    "df_skew[metric_features].skew()\n",
    "#we need values between -0.5 and 0.5"
   ]
  },
  {
   "cell_type": "code",
   "execution_count": null,
   "id": "30d2a640",
   "metadata": {},
   "outputs": [],
   "source": [
    "df_skew[metric_features].kurtosis()"
   ]
  },
  {
   "cell_type": "code",
   "execution_count": null,
   "id": "5f2c9679",
   "metadata": {},
   "outputs": [],
   "source": [
    "# All Numeric Variables' Histograms in one figure\n",
    "sns.set()\n",
    "\n",
    "# Prepare figure. Create individual axes where each histogram will be placed\n",
    "fig, axes = plt.subplots(2, ceil(len(metric_features) / 2), figsize=(20, 11))\n",
    "\n",
    "# Plot data\n",
    "# Iterate across axes objects and associate each histogram (hint: use the ax.hist() instead of plt.hist()):\n",
    "for ax, feat in zip(axes.flatten(), metric_features): # Notice the zip() function and flatten() method\n",
    "    ax.hist(df_skew[feat][~np.isnan(df_skew[feat])])\n",
    "    ax.set_title(feat, y=-0.13)\n",
    "    \n",
    "# Layout\n",
    "# Add a centered title to the figure:\n",
    "title = \"Numeric Variables' Histograms\"\n",
    "\n",
    "plt.suptitle(title)\n",
    "\n",
    "plt.show()"
   ]
  },
  {
   "cell_type": "code",
   "execution_count": null,
   "id": "d5dc8085",
   "metadata": {
    "scrolled": true
   },
   "outputs": [],
   "source": [
    "sns.set(style='white', font_scale=1.6)\n",
    "data = df_skew[metric_features]\n",
    "graph = sns.PairGrid(data, aspect=1.4, diag_sharey=False)\n",
    "graph.map_lower(sns.regplot, lowess=True, ci=False, line_kws={'color': 'black'})\n",
    "graph.map_diag(sns.distplot, kde_kws={'color': 'black'})\n",
    "graph.map_upper(corrdot)"
   ]
  },
  {
   "cell_type": "markdown",
   "id": "811f4db4",
   "metadata": {},
   "source": [
    "<a class=\"anchor\" id=\"3.7\">\n",
    "\n",
    "## New Variables\n",
    "    \n",
    "</a>"
   ]
  },
  {
   "cell_type": "code",
   "execution_count": null,
   "id": "b7b8f24f",
   "metadata": {},
   "outputs": [],
   "source": [
    "df_variables = df_skew.copy() "
   ]
  },
  {
   "cell_type": "markdown",
   "id": "deeba83b",
   "metadata": {},
   "source": [
    "<a class=\"anchor\" id=\"3.7.1\">\n",
    "\n",
    "### Age\n",
    "    \n",
    "</a>"
   ]
  },
  {
   "cell_type": "code",
   "execution_count": null,
   "id": "1b6d6745",
   "metadata": {},
   "outputs": [],
   "source": [
    "df_variables['Age'] = 2016 - df_coherence['BirthYear']"
   ]
  },
  {
   "cell_type": "code",
   "execution_count": null,
   "id": "fa6ccc8b",
   "metadata": {},
   "outputs": [],
   "source": [
    "df_variables.drop('BirthYear', axis=1, inplace=True)"
   ]
  },
  {
   "cell_type": "markdown",
   "id": "e29d60f0",
   "metadata": {},
   "source": [
    "<a class=\"anchor\" id=\"3.7.2\">\n",
    "\n",
    "### Total Premiums (Annual)\n",
    "    \n",
    "</a>"
   ]
  },
  {
   "cell_type": "code",
   "execution_count": null,
   "id": "98fe3025",
   "metadata": {},
   "outputs": [],
   "source": [
    "df_variables['BoxCox_TotalPremiums'] = (df_variables['BoxCox_PremHealth'] + df_variables['BoxCox_PremHousehold'] + df_variables['BoxCox_PremLife'] \n",
    "+ df_variables['BoxCox_PremMotor'] + df_variables['BoxCox_PremWork'])"
   ]
  },
  {
   "cell_type": "markdown",
   "id": "eed24119",
   "metadata": {},
   "source": [
    "###### Amount paid by the insurance company (annual)"
   ]
  },
  {
   "cell_type": "code",
   "execution_count": null,
   "id": "4ec9c660",
   "metadata": {},
   "outputs": [],
   "source": [
    "# df_final['ClaimsRate'] = Amount paid by the insurance company (€)/ Premiums (€) Note: in the last 2 years"
   ]
  },
  {
   "cell_type": "code",
   "execution_count": null,
   "id": "eb52da44",
   "metadata": {},
   "outputs": [],
   "source": [
    "#df_final['AmountPaid'] = ((df_final['TotalPremiums']*2)*df_final['ClaimsRate'])/2"
   ]
  },
  {
   "cell_type": "markdown",
   "id": "abd29946",
   "metadata": {},
   "source": [
    "###### Annual profit from the customer"
   ]
  },
  {
   "cell_type": "code",
   "execution_count": null,
   "id": "a8ab5202",
   "metadata": {},
   "outputs": [],
   "source": [
    "#df_final['Profit'] = np.where((df_final['TotalPremiums'] - df_final['AmountPaid']) <= 0 , 0, (df_final['TotalPremiums'] - df_final['AmountPaid']))"
   ]
  },
  {
   "cell_type": "markdown",
   "id": "787c74f8",
   "metadata": {},
   "source": [
    "###### Years as a Customer (number of years that they are a customer)"
   ]
  },
  {
   "cell_type": "code",
   "execution_count": null,
   "id": "80ddb21b",
   "metadata": {},
   "outputs": [],
   "source": [
    "# Lifetime value = (annual profit from the customer) X (number of years that they are a customer) - (acquisition cost)"
   ]
  },
  {
   "cell_type": "code",
   "execution_count": null,
   "id": "c6feab62",
   "metadata": {},
   "outputs": [],
   "source": [
    "#acquisition cost = 25\n",
    "#annual profit from the customer = df_final['Profit']\n",
    "# Lifetime Value = df_final['CustMonValue']"
   ]
  },
  {
   "cell_type": "code",
   "execution_count": null,
   "id": "90426a1d",
   "metadata": {},
   "outputs": [],
   "source": [
    "#df_final['YearsCustomer'] = np.where(((df_final['Profit'] <= 0)),0,((df_final['CustMonVal']+25)/df_final['Profit']))"
   ]
  },
  {
   "cell_type": "markdown",
   "id": "6e39551c",
   "metadata": {},
   "source": [
    "###### FirstPolYear"
   ]
  },
  {
   "cell_type": "code",
   "execution_count": null,
   "id": "68725b50",
   "metadata": {},
   "outputs": [],
   "source": [
    "#df_final['FirstPolYearCorrect'] = (2016-df_final['Age']) + df_final['YearsCustomer'] "
   ]
  },
  {
   "cell_type": "markdown",
   "id": "148f63e7",
   "metadata": {},
   "source": [
    "<a class=\"anchor\" id=\"3.7.3\">\n",
    "\n",
    "### Annual Salary (12x)\n",
    "    \n",
    "</a>"
   ]
  },
  {
   "cell_type": "code",
   "execution_count": null,
   "id": "fa77c01b",
   "metadata": {},
   "outputs": [],
   "source": [
    "df_variables['Salary'] = df_coherence['MonthSal']*12"
   ]
  },
  {
   "cell_type": "code",
   "execution_count": null,
   "id": "e874e290",
   "metadata": {},
   "outputs": [],
   "source": [
    "df_variables['Salary'][df_variables['Salary'] > 0].min()"
   ]
  },
  {
   "cell_type": "code",
   "execution_count": null,
   "id": "b61fa3fb",
   "metadata": {},
   "outputs": [],
   "source": [
    "df_variables['BoxCox_Salary'],parameters=stats.boxcox(df_variables['Salary'])"
   ]
  },
  {
   "cell_type": "markdown",
   "id": "65b212ba",
   "metadata": {},
   "source": [
    "<a class=\"anchor\" id=\"3.7.4\">\n",
    "\n",
    "### %SalaryInsurance\n",
    "    \n",
    "</a>"
   ]
  },
  {
   "cell_type": "code",
   "execution_count": null,
   "id": "2bbd07cf",
   "metadata": {},
   "outputs": [],
   "source": [
    "df_variables['BoxCox_Salary%SalaryInsurance'] = df_variables['BoxCox_TotalPremiums']/df_variables['BoxCox_Salary']"
   ]
  },
  {
   "cell_type": "code",
   "execution_count": null,
   "id": "54ae41af",
   "metadata": {
    "scrolled": true
   },
   "outputs": [],
   "source": [
    "df_variables['BoxCox_Salary%SalaryInsurance']"
   ]
  },
  {
   "cell_type": "markdown",
   "id": "b0ea24cc",
   "metadata": {},
   "source": [
    "<a class=\"anchor\" id=\"3.7.5\">\n",
    "\n",
    "### %SalaryInsuranceMotor\n",
    "    \n",
    "</a>"
   ]
  },
  {
   "cell_type": "code",
   "execution_count": null,
   "id": "d6f53d2d",
   "metadata": {},
   "outputs": [],
   "source": [
    "df_variables['BoxCox_Salary%SalaryInsuranceMotor'] =  np.where(df_variables['BoxCox_TotalPremiums']==0,0,((df_variables['BoxCox_PremMotor']*df_variables['BoxCox_Salary%SalaryInsurance'])/df_variables['BoxCox_TotalPremiums']))"
   ]
  },
  {
   "cell_type": "code",
   "execution_count": null,
   "id": "71e66033",
   "metadata": {},
   "outputs": [],
   "source": [
    "df_variables['BoxCox_Salary%SalaryInsuranceMotor']"
   ]
  },
  {
   "cell_type": "markdown",
   "id": "7ec9fd8a",
   "metadata": {},
   "source": [
    "<a class=\"anchor\" id=\"3.7.6\">\n",
    "\n",
    "### %SalaryInsuranceHousehold\n",
    "    \n",
    "</a>"
   ]
  },
  {
   "cell_type": "code",
   "execution_count": null,
   "id": "e69ae5d8",
   "metadata": {},
   "outputs": [],
   "source": [
    "df_variables['BoxCox_Salary%SalaryInsuranceHousehold'] =  np.where(df_variables['BoxCox_TotalPremiums']==0,0,((df_variables['BoxCox_PremHousehold']*df_variables['BoxCox_Salary%SalaryInsurance'])/df_variables['BoxCox_TotalPremiums']))"
   ]
  },
  {
   "cell_type": "code",
   "execution_count": null,
   "id": "2bf8b331",
   "metadata": {
    "scrolled": true
   },
   "outputs": [],
   "source": [
    "df_variables['BoxCox_Salary%SalaryInsuranceHousehold']"
   ]
  },
  {
   "cell_type": "markdown",
   "id": "b20f5023",
   "metadata": {},
   "source": [
    "<a class=\"anchor\" id=\"3.7.7\">\n",
    "\n",
    "### %SalaryInsuranceHealth\n",
    "    \n",
    "</a>"
   ]
  },
  {
   "cell_type": "code",
   "execution_count": null,
   "id": "d4823d82",
   "metadata": {},
   "outputs": [],
   "source": [
    "df_variables['BoxCox_Salary%SalaryInsuranceHealth'] =  np.where(df_variables['BoxCox_TotalPremiums']==0,0,((df_variables['BoxCox_PremHealth']*df_variables['BoxCox_Salary%SalaryInsurance'])/df_variables['BoxCox_TotalPremiums']))"
   ]
  },
  {
   "cell_type": "code",
   "execution_count": null,
   "id": "da98f9b5",
   "metadata": {},
   "outputs": [],
   "source": [
    "df_variables['BoxCox_Salary%SalaryInsuranceHealth'] "
   ]
  },
  {
   "cell_type": "markdown",
   "id": "61a8179f",
   "metadata": {},
   "source": [
    "<a class=\"anchor\" id=\"3.7.8\">\n",
    "\n",
    "### %SalaryInsuranceLife\n",
    "</a>"
   ]
  },
  {
   "cell_type": "code",
   "execution_count": null,
   "id": "6c8e487e",
   "metadata": {},
   "outputs": [],
   "source": [
    "df_variables['BoxCox_Salary%SalaryInsuranceLife'] =  np.where(df_variables['BoxCox_TotalPremiums']==0,0,((df_variables['BoxCox_PremLife']*df_variables['BoxCox_Salary%SalaryInsurance'])/df_variables['BoxCox_TotalPremiums']))"
   ]
  },
  {
   "cell_type": "code",
   "execution_count": null,
   "id": "993c3b31",
   "metadata": {},
   "outputs": [],
   "source": [
    "df_variables['BoxCox_Salary%SalaryInsuranceLife'] "
   ]
  },
  {
   "cell_type": "markdown",
   "id": "dbf74226",
   "metadata": {},
   "source": [
    "<a class=\"anchor\" id=\"3.7.9\">\n",
    "\n",
    "### %SalaryInsuranceWork\n",
    "</a>"
   ]
  },
  {
   "cell_type": "code",
   "execution_count": null,
   "id": "2fe5b9e4",
   "metadata": {},
   "outputs": [],
   "source": [
    "df_variables['BoxCox_Salary%SalaryInsuranceWork'] =  np.where(df_variables['BoxCox_TotalPremiums']==0,0,((df_variables['BoxCox_PremWork']*df_variables['BoxCox_Salary%SalaryInsurance'])/df_variables['BoxCox_TotalPremiums']))"
   ]
  },
  {
   "cell_type": "code",
   "execution_count": null,
   "id": "7eaf3a6d",
   "metadata": {},
   "outputs": [],
   "source": [
    "df_variables['BoxCox_Salary%SalaryInsuranceWork']"
   ]
  },
  {
   "cell_type": "markdown",
   "id": "9862c898",
   "metadata": {},
   "source": [
    "<a class=\"anchor\" id=\"3.7.10\">\n",
    "\n",
    "### BinnedCR\n",
    "</a>"
   ]
  },
  {
   "cell_type": "code",
   "execution_count": null,
   "id": "0be280d1",
   "metadata": {},
   "outputs": [],
   "source": [
    "#ClaimsRate = Amount paid by the insurance company (€)/ Premiums (€) [Last2Years]"
   ]
  },
  {
   "cell_type": "code",
   "execution_count": null,
   "id": "cc659fe1",
   "metadata": {},
   "outputs": [],
   "source": [
    "df_variables['BinnedCR'] = np.where(df_coherence['ClaimsRate'] <= 0.25,4 ,np.where(df_coherence['ClaimsRate'] <= 0.80, 3\n",
    "                                                                           ,np.where(df_coherence['ClaimsRate'] <= 1, 2,1)))"
   ]
  },
  {
   "cell_type": "markdown",
   "id": "6f7cec91",
   "metadata": {},
   "source": [
    "<a class=\"anchor\" id=\"3.7.10\">\n",
    "\n",
    "### Liquid Salary\n",
    "</a>"
   ]
  },
  {
   "cell_type": "code",
   "execution_count": null,
   "id": "49200912",
   "metadata": {},
   "outputs": [],
   "source": [
    "df_variables['BoxCox_LiquidSalary'] = df_variables['BoxCox_Salary'] - df_variables['BoxCox_TotalPremiums']"
   ]
  },
  {
   "cell_type": "markdown",
   "id": "be8d9693",
   "metadata": {},
   "source": [
    "###### Minimum Wage"
   ]
  },
  {
   "cell_type": "code",
   "execution_count": null,
   "id": "7a3cce65",
   "metadata": {},
   "outputs": [],
   "source": [
    "# df_variables['MinimumWage'] = np.where(\n",
    "#     df_coherence['MonthSal'] > 618.33, 0, 1)"
   ]
  },
  {
   "cell_type": "code",
   "execution_count": null,
   "id": "7d84b35c",
   "metadata": {},
   "outputs": [],
   "source": [
    "# df_variables['MinimumWage'].value_counts()"
   ]
  },
  {
   "cell_type": "code",
   "execution_count": null,
   "id": "500e7268",
   "metadata": {
    "scrolled": false
   },
   "outputs": [],
   "source": [
    "df_variables = df_variables[['Age','EducDeg','MonthSal','BoxCox_Salary','Children','GeoLivArea','BoxCox_PremMotor','BoxCox_Salary%SalaryInsuranceMotor','BoxCox_PremHousehold','BoxCox_Salary%SalaryInsuranceHousehold','BoxCox_PremHealth','BoxCox_Salary%SalaryInsuranceHealth','BoxCox_PremLife','BoxCox_Salary%SalaryInsuranceLife','BoxCox_PremWork','BoxCox_Salary%SalaryInsuranceWork','BoxCox_TotalPremiums','BoxCox_Salary%SalaryInsurance','BoxCox_LiquidSalary','BoxCox_CustMonVal','ClaimsRate','BinnedCR']]\n",
    "df_variables"
   ]
  },
  {
   "cell_type": "code",
   "execution_count": null,
   "id": "b4a3ccc2",
   "metadata": {},
   "outputs": [],
   "source": [
    "df_variables.isna().sum()"
   ]
  },
  {
   "cell_type": "code",
   "execution_count": null,
   "id": "5589b24d",
   "metadata": {
    "scrolled": false
   },
   "outputs": [],
   "source": [
    "df_variables.describe().T"
   ]
  },
  {
   "cell_type": "code",
   "execution_count": null,
   "id": "3b7c0d52",
   "metadata": {},
   "outputs": [],
   "source": [
    "non_metric_features = [\"Children\",\"EducDeg\",'GeoLivArea','BinnedCR']\n",
    "metric_features = df_variables.columns.drop(non_metric_features).to_list()\n",
    "metric_features"
   ]
  },
  {
   "cell_type": "code",
   "execution_count": null,
   "id": "c5983fa9",
   "metadata": {},
   "outputs": [],
   "source": [
    "scaled_feat = scaler.fit_transform(df_variables[metric_features])\n",
    "df_variables[metric_features] = scaled_feat"
   ]
  },
  {
   "cell_type": "code",
   "execution_count": null,
   "id": "df11fd97",
   "metadata": {},
   "outputs": [],
   "source": [
    "df_variables.describe().T"
   ]
  },
  {
   "cell_type": "code",
   "execution_count": null,
   "id": "a4a13710",
   "metadata": {},
   "outputs": [],
   "source": [
    "non_metric_features = [\"Children\",\"EducDeg\",'GeoLivArea','BinnedCR']\n",
    "metric_features = df_variables.columns.drop(non_metric_features).to_list()\n",
    "metric_features"
   ]
  },
  {
   "cell_type": "code",
   "execution_count": null,
   "id": "fd11e88b",
   "metadata": {},
   "outputs": [],
   "source": [
    "# All Numeric Variables' Histograms in one figure\n",
    "sns.set()\n",
    "\n",
    "# Prepare figure. Create individual axes where each histogram will be placed\n",
    "fig, axes = plt.subplots(2, ceil(len(metric_features) / 2), figsize=(20, 11))\n",
    "\n",
    "# Plot data\n",
    "# Iterate across axes objects and associate each histogram (hint: use the ax.hist() instead of plt.hist()):\n",
    "for ax, feat in zip(axes.flatten(), metric_features): # Notice the zip() function and flatten() method\n",
    "    ax.hist(df_variables[feat][~np.isnan(df_variables[feat])])\n",
    "    ax.set_title(feat, y=-0.13)\n",
    "    \n",
    "# Layout\n",
    "# Add a centered title to the figure:\n",
    "title = \"Numeric Variables' Histograms\"\n",
    "\n",
    "plt.suptitle(title)\n",
    "\n",
    "plt.show()"
   ]
  },
  {
   "cell_type": "code",
   "execution_count": null,
   "id": "4af5d45c",
   "metadata": {
    "scrolled": false
   },
   "outputs": [],
   "source": [
    "for column in df_variables[metric_features]:\n",
    "        plt.figure(figsize=(17,1))\n",
    "        sns.boxplot(data=df_variables, x=column)"
   ]
  },
  {
   "cell_type": "markdown",
   "id": "e348067a",
   "metadata": {},
   "source": [
    "<a class=\"anchor\" id=\"3.8\">\n",
    "\n",
    "## Encoders\n",
    "    \n",
    "</a>"
   ]
  },
  {
   "cell_type": "markdown",
   "id": "8728fb85",
   "metadata": {},
   "source": [
    "<a class=\"anchor\" id=\"3.8.1\">\n",
    "\n",
    "### Ordinal Encoder\n",
    "    \n",
    "</a>"
   ]
  },
  {
   "cell_type": "code",
   "execution_count": null,
   "id": "059d0e48",
   "metadata": {},
   "outputs": [],
   "source": [
    "df_final = df_variables.copy()"
   ]
  },
  {
   "cell_type": "code",
   "execution_count": null,
   "id": "9082bf5f",
   "metadata": {},
   "outputs": [],
   "source": [
    "df_final['EducDeg'].value_counts()"
   ]
  },
  {
   "cell_type": "code",
   "execution_count": null,
   "id": "8723d31b",
   "metadata": {},
   "outputs": [],
   "source": [
    "from sklearn.preprocessing import OrdinalEncoder\n",
    "\n",
    "df_final_enc = df_final.copy()\n",
    "\n",
    "EducationOrder = [[b'1 - Basic',b'2 - High School',b'3 - BSc/MSc',b'4 - PhD']]\n",
    "encoder = OrdinalEncoder(categories=EducationOrder)\n",
    "df_final_enc['EducDeg'] = encoder.fit_transform(df_final_enc[['EducDeg']])\n",
    "df_final_enc['EducDeg'].value_counts()"
   ]
  },
  {
   "cell_type": "code",
   "execution_count": null,
   "id": "3b2d6677",
   "metadata": {},
   "outputs": [],
   "source": [
    "df_final_enc"
   ]
  },
  {
   "cell_type": "markdown",
   "id": "1e52f52b",
   "metadata": {},
   "source": [
    "<a class=\"anchor\" id=\"3.8.2\">\n",
    "\n",
    "### One-Hot Encoder\n",
    "    \n",
    "</a>"
   ]
  },
  {
   "cell_type": "code",
   "execution_count": null,
   "id": "2f02e84d",
   "metadata": {},
   "outputs": [],
   "source": [
    "dummie_hot = pd.get_dummies(df_final_enc['GeoLivArea'],prefix='Area')\n",
    "\n",
    "scaler_hot = OneHotEncoder(sparse = False ).fit(df_final_enc[['GeoLivArea']])\n",
    "hot_enconded = scaler_hot.transform(df_final_enc[['GeoLivArea']])\n",
    "hot_enconded = pd.DataFrame(hot_enconded, columns = dummie_hot.columns).set_index(df_final_enc.index)\n",
    "\n"
   ]
  },
  {
   "cell_type": "code",
   "execution_count": null,
   "id": "d5a650d9",
   "metadata": {},
   "outputs": [],
   "source": [
    "hot_enconded"
   ]
  },
  {
   "cell_type": "code",
   "execution_count": null,
   "id": "adac7a34",
   "metadata": {},
   "outputs": [],
   "source": [
    "#(VIF): a measure of the amount of multicollinearity in regression analysis, \n",
    "#which presents a scale to guide us. If this presents values above 5, \n",
    "#we are facing extreme multicollinearity, which is what we should avoid.\n",
    "#If it has a value lower than 5, we have a moderate level of multicollinearity and equals to 1, \n",
    "#a very low level of multicollinearity\n",
    "def vif(data):\n",
    "    vif_data = pd.DataFrame()\n",
    "    vif_data[\"feature\"] = data.columns\n",
    "\n",
    "    # calculating VIF for each feature\n",
    "    vif_data[\"VIF\"] = [variance_inflation_factor(data.values, i)\n",
    "                              for i in range(len(data.columns))]\n",
    "    \n",
    "    return vif_data"
   ]
  },
  {
   "cell_type": "code",
   "execution_count": null,
   "id": "2efb7ea9",
   "metadata": {},
   "outputs": [],
   "source": [
    "#vif\n",
    "vif(hot_enconded)"
   ]
  },
  {
   "cell_type": "code",
   "execution_count": null,
   "id": "fe4ccab5",
   "metadata": {},
   "outputs": [],
   "source": [
    "df_final_enc  = pd.concat([df_final_enc, hot_enconded], axis = 1)\n"
   ]
  },
  {
   "cell_type": "code",
   "execution_count": null,
   "id": "7a1326e2",
   "metadata": {},
   "outputs": [],
   "source": [
    "#df_final_enc.drop('GeoLivArea', axis=1, inplace=True)"
   ]
  },
  {
   "cell_type": "code",
   "execution_count": null,
   "id": "5b674079",
   "metadata": {},
   "outputs": [],
   "source": [
    "df_final_enc"
   ]
  },
  {
   "cell_type": "code",
   "execution_count": null,
   "id": "c2d7d35a",
   "metadata": {},
   "outputs": [],
   "source": [
    "df_final_enc.describe().T"
   ]
  },
  {
   "cell_type": "code",
   "execution_count": null,
   "id": "ff1b3abd",
   "metadata": {
    "scrolled": false
   },
   "outputs": [],
   "source": [
    "df_corr = df_final_enc.corr()\n",
    "corr_heatmap(df_corr)"
   ]
  },
  {
   "cell_type": "code",
   "execution_count": null,
   "id": "bca85c57",
   "metadata": {},
   "outputs": [],
   "source": [
    "df_fs = df_final_enc.copy()"
   ]
  },
  {
   "cell_type": "code",
   "execution_count": null,
   "id": "34bf861f",
   "metadata": {},
   "outputs": [],
   "source": [
    "df_fs.columns"
   ]
  },
  {
   "cell_type": "code",
   "execution_count": null,
   "id": "e177eb38",
   "metadata": {},
   "outputs": [],
   "source": [
    "non_metric_features = [\"Children\",\"EducDeg\",'GeoLivArea','BinnedCR']\n",
    "metric_features = df_variables.columns.drop(non_metric_features).to_list()\n",
    "metric_features\n"
   ]
  },
  {
   "cell_type": "code",
   "execution_count": null,
   "id": "8b0c8367",
   "metadata": {},
   "outputs": [],
   "source": [
    "df_fs.describe().T"
   ]
  },
  {
   "cell_type": "markdown",
   "id": "ae0309b5",
   "metadata": {},
   "source": [
    "<a class=\"anchor\" id=\"3.9\">\n",
    "\n",
    "## Scaled Data\n",
    "    \n",
    "</a>"
   ]
  },
  {
   "cell_type": "code",
   "execution_count": null,
   "id": "406f7352",
   "metadata": {},
   "outputs": [],
   "source": [
    "scaler = preprocessing.MinMaxScaler(feature_range=(-1,1))\n"
   ]
  },
  {
   "cell_type": "code",
   "execution_count": null,
   "id": "c999e2cc",
   "metadata": {
    "scrolled": false
   },
   "outputs": [],
   "source": [
    "scaled_feat = scaler.fit_transform(df_fs[metric_features])\n",
    "df_fs[metric_features] = scaled_feat"
   ]
  },
  {
   "cell_type": "code",
   "execution_count": null,
   "id": "31c43f4f",
   "metadata": {
    "scrolled": false
   },
   "outputs": [],
   "source": [
    "df_fs.describe().T"
   ]
  },
  {
   "cell_type": "code",
   "execution_count": null,
   "id": "14ddbaa5",
   "metadata": {},
   "outputs": [],
   "source": [
    "non_metric_features = [\"Children\",\"EducDeg\",'GeoLivArea']\n",
    "metric_features = df_fs.columns.drop(non_metric_features).to_list()\n",
    "metric_features"
   ]
  },
  {
   "cell_type": "code",
   "execution_count": null,
   "id": "58b7867c",
   "metadata": {},
   "outputs": [],
   "source": [
    "metric_features = ['Age',\n",
    " 'MonthSal',\n",
    " 'BoxCox_Salary',\n",
    " 'BoxCox_PremMotor',\n",
    " 'BoxCox_Salary%SalaryInsuranceMotor',\n",
    " 'BoxCox_PremHousehold',\n",
    " 'BoxCox_Salary%SalaryInsuranceHousehold',\n",
    " 'BoxCox_PremHealth',\n",
    " 'BoxCox_Salary%SalaryInsuranceHealth',\n",
    " 'BoxCox_PremLife',\n",
    " 'BoxCox_Salary%SalaryInsuranceLife',\n",
    " 'BoxCox_PremWork',\n",
    " 'BoxCox_Salary%SalaryInsuranceWork',\n",
    " 'BoxCox_TotalPremiums',\n",
    " 'BoxCox_Salary%SalaryInsurance',\n",
    " 'BoxCox_LiquidSalary',\n",
    " 'BoxCox_CustMonVal',\n",
    " 'ClaimsRate']"
   ]
  },
  {
   "cell_type": "code",
   "execution_count": null,
   "id": "e2eaa4a4",
   "metadata": {},
   "outputs": [],
   "source": [
    "df_fs"
   ]
  },
  {
   "cell_type": "markdown",
   "id": "fe51ae7e",
   "metadata": {},
   "source": [
    "<a class=\"anchor\" id=\"3.10\">\n",
    "\n",
    "## Visualization (Numeric Variables VS BinnedCR)\n",
    "    \n",
    "</a>"
   ]
  },
  {
   "cell_type": "code",
   "execution_count": null,
   "id": "15df0d0e",
   "metadata": {},
   "outputs": [],
   "source": [
    "sns.pairplot(df_final_enc[metric_features + ['BinnedCR']], diag_kind=\"hist\", hue='BinnedCR')\n",
    "\n",
    "plt.subplots_adjust(top=0.95)\n",
    "plt.suptitle(\"Numerical Variables VS BinnedCR\", fontsize=40)\n",
    "\n",
    "plt.show()"
   ]
  },
  {
   "cell_type": "markdown",
   "id": "08a7fe16",
   "metadata": {},
   "source": [
    "<div class=\"alert alert-block alert-info\">\n",
    "\n",
    "<a class=\"anchor\" id=\"4\">\n",
    "\n",
    "# Segmentation\n",
    "    \n",
    "</a>"
   ]
  },
  {
   "cell_type": "markdown",
   "id": "0e12253f",
   "metadata": {},
   "source": [
    "[Back to Index](#1.0)"
   ]
  },
  {
   "cell_type": "code",
   "execution_count": null,
   "id": "6b8aee62",
   "metadata": {},
   "outputs": [],
   "source": [
    "df_fs.columns"
   ]
  },
  {
   "cell_type": "markdown",
   "id": "b8e132f0",
   "metadata": {},
   "source": [
    "<a class=\"anchor\" id=\"4.1\">\n",
    "\n",
    "## Value\n",
    "    \n",
    "</a>"
   ]
  },
  {
   "cell_type": "code",
   "execution_count": null,
   "id": "61d6cdf3",
   "metadata": {},
   "outputs": [],
   "source": [
    "value = df_fs[[\"BoxCox_PremHousehold\",\"BoxCox_PremHealth\",\"BoxCox_PremMotor\",\"BoxCox_PremLife\",\"BoxCox_PremWork\",\"BoxCox_CustMonVal\"]]"
   ]
  },
  {
   "cell_type": "markdown",
   "id": "1d888d0e",
   "metadata": {},
   "source": [
    "<a class=\"anchor\" id=\"4.1.1\">\n",
    "\n",
    "### KMeans\n",
    "    \n",
    "</a>"
   ]
  },
  {
   "cell_type": "code",
   "execution_count": null,
   "id": "7c528834",
   "metadata": {},
   "outputs": [],
   "source": [
    "range_clusters = range(1, 11)\n",
    "inertia = []\n",
    "for n_clus in range_clusters:  # iterate over desired ncluster range\n",
    "    kmclust = KMeans(n_clusters=n_clus, init='k-means++', n_init=15, random_state=1)\n",
    "    kmclust.fit(value)\n",
    "    inertia.append(kmclust.inertia_)  # save the inertia of the given cluster solution"
   ]
  },
  {
   "cell_type": "code",
   "execution_count": null,
   "id": "3cbbdb4c",
   "metadata": {},
   "outputs": [],
   "source": [
    "# The inertia plot\n",
    "plt.figure(figsize=(9,5))\n",
    "plt.plot(inertia)\n",
    "plt.ylabel(\"Inertia: SSw\")\n",
    "plt.xlabel(\"Number of clusters\")\n",
    "plt.title(\"Inertia plot over clusters\", size=15)\n",
    "plt.show()"
   ]
  },
  {
   "cell_type": "code",
   "execution_count": null,
   "id": "92924412",
   "metadata": {},
   "outputs": [],
   "source": [
    "# Adapted from:\n",
    "# https://scikit-learn.org/stable/auto_examples/cluster/plot_kmeans_silhouette_analysis.html#sphx-glr-auto-examples-cluster-plot-kmeans-silhouette-analysis-py\n",
    "\n",
    "# Storing average silhouette metric\n",
    "avg_silhouette = []\n",
    "for nclus in range_clusters:\n",
    "    # Skip nclus == 1\n",
    "    if nclus == 1:\n",
    "        continue\n",
    "    \n",
    "    # Create a figure\n",
    "    fig = plt.figure(figsize=(13, 7))\n",
    "\n",
    "    # Initialize the KMeans object with n_clusters value and a random generator\n",
    "    # seed of 10 for reproducibility.\n",
    "    kmclust = KMeans(n_clusters=nclus, init='k-means++', n_init=15, random_state=1)\n",
    "    cluster_labels = kmclust.fit_predict(value)\n",
    "\n",
    "    # The silhouette_score gives the average value for all the samples.\n",
    "    # This gives a perspective into the density and separation of the formed clusters\n",
    "    silhouette_avg = silhouette_score(value, cluster_labels)\n",
    "    avg_silhouette.append(silhouette_avg)\n",
    "    print(f\"For n_clusters = {nclus}, the average silhouette_score is : {silhouette_avg}\")\n",
    "\n",
    "    # Compute the silhouette scores for each sample\n",
    "    sample_silhouette_values = silhouette_samples(value, cluster_labels)\n",
    "\n",
    "    y_lower = 10\n",
    "    for i in range(nclus):\n",
    "        # Aggregate the silhouette scores for samples belonging to cluster i, and sort them\n",
    "        ith_cluster_silhouette_values = sample_silhouette_values[cluster_labels == i]\n",
    "        ith_cluster_silhouette_values.sort()\n",
    "        \n",
    "        # Get y_upper to demarcate silhouette y range size\n",
    "        size_cluster_i = ith_cluster_silhouette_values.shape[0]\n",
    "        y_upper = y_lower + size_cluster_i\n",
    "        \n",
    "        # Filling the silhouette\n",
    "        color = cm.nipy_spectral(float(i) / nclus)\n",
    "        plt.fill_betweenx(np.arange(y_lower, y_upper),\n",
    "                          0, ith_cluster_silhouette_values,\n",
    "                          facecolor=color, edgecolor=color, alpha=0.7)\n",
    "\n",
    "        # Label the silhouette plots with their cluster numbers at the middle\n",
    "        plt.text(-0.05, y_lower + 0.5 * size_cluster_i, str(i))\n",
    "\n",
    "        # Compute the new y_lower for next plot\n",
    "        y_lower = y_upper + 10  # 10 for the 0 samples\n",
    "\n",
    "    plt.title(\"The silhouette plot for the various clusters.\")\n",
    "    plt.xlabel(\"The silhouette coefficient values\")\n",
    "    plt.ylabel(\"Cluster label\")\n",
    "\n",
    "    # The vertical line for average silhouette score of all the values\n",
    "    plt.axvline(x=silhouette_avg, color=\"red\", linestyle=\"--\")\n",
    "    \n",
    "    # The silhouette coefficient can range from -1, 1\n",
    "    xmin, xmax = np.round(sample_silhouette_values.min() -0.1, 2), np.round(sample_silhouette_values.max() + 0.1, 2)\n",
    "    plt.xlim([xmin, xmax])\n",
    "    \n",
    "    # The (nclus+1)*10 is for inserting blank space between silhouette\n",
    "    # plots of individual clusters, to demarcate them clearly.\n",
    "    plt.ylim([0, len(value) + (nclus + 1) * 10])\n",
    "\n",
    "    plt.yticks([])  # Clear the yaxis labels / ticks\n",
    "    plt.xticks(np.arange(xmin, xmax, 0.1))"
   ]
  },
  {
   "cell_type": "code",
   "execution_count": null,
   "id": "21b1e1bf",
   "metadata": {},
   "outputs": [],
   "source": [
    "# The average silhouette plot\n",
    "# The inertia plot\n",
    "plt.figure(figsize=(9,5))\n",
    "plt.plot(avg_silhouette)\n",
    "plt.ylabel(\"Average silhouette\")\n",
    "plt.xlabel(\"Number of clusters\")\n",
    "plt.title(\"Average silhouette plot over clusters\", size=15)\n",
    "plt.show()"
   ]
  },
  {
   "cell_type": "code",
   "execution_count": null,
   "id": "31846d6d",
   "metadata": {},
   "outputs": [],
   "source": [
    "# final cluster solution\n",
    "number_clusters = 4\n",
    "kmclust = KMeans(n_clusters=number_clusters, init='k-means++', n_init=15, random_state=1)\n",
    "km_labels = kmclust.fit_predict(value)\n",
    "km_labels"
   ]
  },
  {
   "cell_type": "code",
   "execution_count": null,
   "id": "04de4183",
   "metadata": {
    "scrolled": false
   },
   "outputs": [],
   "source": [
    "# Characterizing the final clusters\n",
    "value['label'] = km_labels\n",
    "value.groupby('label').mean()"
   ]
  },
  {
   "cell_type": "code",
   "execution_count": null,
   "id": "bf3f53a1",
   "metadata": {},
   "outputs": [],
   "source": [
    "value['label'].value_counts()"
   ]
  },
  {
   "cell_type": "code",
   "execution_count": null,
   "id": "6ddfe5f1",
   "metadata": {},
   "outputs": [],
   "source": [
    "value"
   ]
  },
  {
   "cell_type": "code",
   "execution_count": null,
   "id": "7e5f51bc",
   "metadata": {},
   "outputs": [],
   "source": [
    "value.drop(['label'], axis=1, inplace=True)"
   ]
  },
  {
   "cell_type": "code",
   "execution_count": null,
   "id": "2307bab1",
   "metadata": {
    "scrolled": true
   },
   "outputs": [],
   "source": [
    "def get_ss(df):\n",
    "    \"\"\"Computes the sum of squares for all variables given a dataset\n",
    "    \"\"\"\n",
    "    ss = np.sum(df.var() * (df.count() - 1))\n",
    "    return ss  # return sum of sum of squares of each df variable\n",
    "\n",
    "def r2(df, labels):\n",
    "    sst = get_ss(df)\n",
    "    ssw = np.sum(df.groupby(labels).apply(get_ss))\n",
    "    return 1 - ssw/sst\n",
    "    \n",
    "def get_r2_scores(df, clusterer, min_k=1, max_k=8):\n",
    "    \"\"\"\n",
    "    Loop over different values of k. To be used with sklearn clusterers.\n",
    "    \"\"\"\n",
    "    r2_clust = {}\n",
    "    for n in range(min_k, max_k):\n",
    "        clust = clone(clusterer).set_params(n_clusters=n)\n",
    "        labels = clust.fit_predict(df)\n",
    "        r2_clust[n] = r2(df, labels)\n",
    "    return r2_clust\n",
    "\n",
    "\n",
    "# Set up the clusterers\n",
    "kmeans = KMeans(n_clusters=4, init='k-means++', random_state=42)\n",
    "\n",
    "hierarchical = AgglomerativeClustering(\n",
    "    affinity='euclidean'\n",
    ")\n",
    "\n",
    "# Obtaining the R² scores for each cluster solution on demographic variables\n",
    "r2_scores = {}\n",
    "r2_scores['kmeans'] = get_r2_scores(value, kmeans)\n",
    "\n",
    "for linkage in ['complete', 'average', 'single', 'ward']:\n",
    "    r2_scores[linkage] = get_r2_scores(\n",
    "        value, hierarchical.set_params(linkage=linkage)\n",
    "    )\n",
    "\n",
    "pd.DataFrame(r2_scores)"
   ]
  },
  {
   "cell_type": "markdown",
   "id": "2740f047",
   "metadata": {},
   "source": [
    "<a class=\"anchor\" id=\"4.1.2\">\n",
    "\n",
    "### KMeans + Hierarchical\n",
    "    \n",
    "</a>"
   ]
  },
  {
   "cell_type": "code",
   "execution_count": null,
   "id": "0f15d17e",
   "metadata": {},
   "outputs": [],
   "source": [
    "# final cluster solution\n",
    "number_clusters = 35\n",
    "kmclust = KMeans(n_clusters=number_clusters, init='k-means++', n_init=15, random_state=1)\n",
    "km_labels = kmclust.fit_predict(value)\n",
    "km_labels"
   ]
  },
  {
   "cell_type": "code",
   "execution_count": null,
   "id": "1ad9943a",
   "metadata": {},
   "outputs": [],
   "source": [
    "mixedf = value.copy()"
   ]
  },
  {
   "cell_type": "code",
   "execution_count": null,
   "id": "5c57b02f",
   "metadata": {},
   "outputs": [],
   "source": [
    "mixedf.isna().sum()"
   ]
  },
  {
   "cell_type": "code",
   "execution_count": null,
   "id": "db16c373",
   "metadata": {},
   "outputs": [],
   "source": [
    "mixedf['label'] = km_labels"
   ]
  },
  {
   "cell_type": "code",
   "execution_count": null,
   "id": "271f68b7",
   "metadata": {
    "scrolled": false
   },
   "outputs": [],
   "source": [
    "# Characterizing the final clusters\n",
    "df35 = value.copy()\n",
    "df35['label'] = km_labels\n",
    "df35.groupby('label').mean()"
   ]
  },
  {
   "cell_type": "code",
   "execution_count": null,
   "id": "903d754b",
   "metadata": {},
   "outputs": [],
   "source": [
    "meanmixed = df35.groupby(by = 'label').mean()\n",
    "meanmixed"
   ]
  },
  {
   "cell_type": "code",
   "execution_count": null,
   "id": "3a48fb53",
   "metadata": {},
   "outputs": [],
   "source": [
    "value"
   ]
  },
  {
   "cell_type": "code",
   "execution_count": null,
   "id": "e0f352ca",
   "metadata": {},
   "outputs": [],
   "source": [
    "meanmixed"
   ]
  },
  {
   "cell_type": "code",
   "execution_count": null,
   "id": "d96303e3",
   "metadata": {
    "scrolled": true
   },
   "outputs": [],
   "source": [
    "df35.drop(['label'],inplace=True, axis=1)"
   ]
  },
  {
   "cell_type": "code",
   "execution_count": null,
   "id": "a46fac6f",
   "metadata": {},
   "outputs": [],
   "source": [
    "df35"
   ]
  },
  {
   "cell_type": "code",
   "execution_count": null,
   "id": "1c743ca7",
   "metadata": {},
   "outputs": [],
   "source": [
    "linkage = 'ward'\n",
    "distance = 'euclidean'\n",
    "hclust = AgglomerativeClustering(linkage=linkage, affinity=distance, distance_threshold=0, n_clusters=None)\n",
    "hclust.fit_predict(value)"
   ]
  },
  {
   "cell_type": "code",
   "execution_count": null,
   "id": "82281599",
   "metadata": {},
   "outputs": [],
   "source": [
    "# Plotting dendrogram\n",
    "counts = np.zeros(hclust.children_.shape[0])\n",
    "n_samples = len(hclust.labels_)\n",
    "\n",
    "\n",
    "for i, merge in enumerate(hclust.children_):\n",
    "    current_count = 0\n",
    "    for child_idx in merge:\n",
    "        if child_idx < n_samples:\n",
    "            current_count += 1\n",
    "        else:\n",
    "            current_count += counts[child_idx - n_samples]\n",
    "    counts[i] = current_count\n",
    "\n",
    "linkage_matrix = np.column_stack(\n",
    "    [hclust.children_, hclust.distances_, counts]\n",
    ").astype(float)\n",
    "\n",
    "\n",
    "fig = plt.figure(figsize=(11,5))\n",
    "\n",
    "y_threshold = 30\n",
    "dendrogram(linkage_matrix, truncate_mode='level', p=5, color_threshold=y_threshold, above_threshold_color='k')\n",
    "plt.hlines(y_threshold, 0, 1000, colors=\"r\", linestyles=\"dashed\")\n",
    "plt.title(f'Hierarchical Clustering - {linkage.title()}\\'s Dendrogram', fontsize=21)\n",
    "plt.xlabel('Number of points in node (or index of point if no parenthesis)')\n",
    "plt.ylabel(f'{distance.title()} Distance', fontsize=13)\n",
    "\n",
    "plt.show()"
   ]
  },
  {
   "cell_type": "code",
   "execution_count": null,
   "id": "5c73a937",
   "metadata": {
    "scrolled": true
   },
   "outputs": [],
   "source": [
    "linkage = 'ward'\n",
    "distance = 'euclidean'\n",
    "num_clust = 4\n",
    "\n",
    "final_hclust = AgglomerativeClustering(affinity = distance, linkage = linkage, n_clusters = num_clust)\n",
    "final_hc_labels = final_hclust.fit_predict(value)\n",
    "\n",
    "value['label'] = final_hc_labels\n",
    "value.groupby('label').mean()"
   ]
  },
  {
   "cell_type": "code",
   "execution_count": null,
   "id": "c288da0d",
   "metadata": {},
   "outputs": [],
   "source": [
    "value"
   ]
  },
  {
   "cell_type": "code",
   "execution_count": null,
   "id": "6a8bbc48",
   "metadata": {},
   "outputs": [],
   "source": [
    "value.drop(['label'],inplace=True, axis=1)"
   ]
  },
  {
   "cell_type": "code",
   "execution_count": null,
   "id": "1cacc513",
   "metadata": {},
   "outputs": [],
   "source": [
    "print(len(final_hc_labels))\n",
    "print(len(value))"
   ]
  },
  {
   "cell_type": "code",
   "execution_count": null,
   "id": "2d4477aa",
   "metadata": {},
   "outputs": [],
   "source": [
    "def get_r2_scores(df, clusterer, min_k=1, max_k=8):\n",
    "    \"\"\"\n",
    "    Loop over different values of k. To be used with sklearn clusterers.\n",
    "    \"\"\"\n",
    "    r2_clust = {}\n",
    "    for n in range(min_k, max_k):\n",
    "        clust = clone(clusterer).set_params(n_clusters=n)\n",
    "        labels = clust.fit_predict(df)\n",
    "        r2_clust[n] = r2(df, labels)\n",
    "    return r2_clust"
   ]
  },
  {
   "cell_type": "code",
   "execution_count": null,
   "id": "e21bdbeb",
   "metadata": {},
   "outputs": [],
   "source": [
    "get_r2_scores(value, hierarchical.set_params(linkage=linkage), 2,6)"
   ]
  },
  {
   "cell_type": "code",
   "execution_count": null,
   "id": "32595826",
   "metadata": {},
   "outputs": [],
   "source": [
    "linkage = 'ward'\n",
    "distance = 'euclidean'\n",
    "hclust = AgglomerativeClustering(linkage=linkage, affinity=distance, distance_threshold=0, n_clusters=None)\n",
    "hclust.fit_predict(meanmixed)"
   ]
  },
  {
   "cell_type": "code",
   "execution_count": null,
   "id": "393a5f0d",
   "metadata": {},
   "outputs": [],
   "source": [
    "# Plotting dendrogram\n",
    "counts = np.zeros(hclust.children_.shape[0])\n",
    "n_samples = len(hclust.labels_)\n",
    "\n",
    "\n",
    "for i, merge in enumerate(hclust.children_):\n",
    "    current_count = 0\n",
    "    for child_idx in merge:\n",
    "        if child_idx < n_samples:\n",
    "            current_count += 1\n",
    "        else:\n",
    "            current_count += counts[child_idx - n_samples]\n",
    "    counts[i] = current_count\n",
    "\n",
    "linkage_matrix = np.column_stack(\n",
    "    [hclust.children_, hclust.distances_, counts]\n",
    ").astype(float)\n",
    "\n",
    "\n",
    "fig = plt.figure(figsize=(11,5))\n",
    "\n",
    "y_threshold = 3\n",
    "dendrogram(linkage_matrix, truncate_mode='level', p=5, color_threshold=y_threshold, above_threshold_color='k')\n",
    "plt.hlines(y_threshold, 0, 1000, colors=\"r\", linestyles=\"dashed\")\n",
    "plt.title(f'Hierarchical Clustering - {linkage.title()}\\'s Dendrogram', fontsize=21)\n",
    "plt.xlabel('Number of points in node (or index of point if no parenthesis)')\n",
    "plt.ylabel(f'{distance.title()} Distance', fontsize=13)\n",
    "\n",
    "plt.show()"
   ]
  },
  {
   "cell_type": "code",
   "execution_count": null,
   "id": "a98dfc7f",
   "metadata": {
    "scrolled": true
   },
   "outputs": [],
   "source": [
    "meanmixed"
   ]
  },
  {
   "cell_type": "code",
   "execution_count": null,
   "id": "4059cf9a",
   "metadata": {},
   "outputs": [],
   "source": []
  },
  {
   "cell_type": "code",
   "execution_count": null,
   "id": "655c2e76",
   "metadata": {
    "scrolled": true
   },
   "outputs": [],
   "source": [
    "linkage = 'ward'\n",
    "distance = 'euclidean'\n",
    "num_clust = 2\n",
    "\n",
    "final_hclust = AgglomerativeClustering(affinity = distance, linkage = linkage, n_clusters = num_clust)\n",
    "final_hc_labels = final_hclust.fit_predict(meanmixed)\n",
    "\n",
    "meanmixed['label'] = final_hc_labels\n",
    "meanmixed.groupby(meanmixed['label']).mean()"
   ]
  },
  {
   "cell_type": "code",
   "execution_count": null,
   "id": "bfa1e5fc",
   "metadata": {},
   "outputs": [],
   "source": [
    "print(len(final_hc_labels))\n",
    "print(len(meanmixed))"
   ]
  },
  {
   "cell_type": "code",
   "execution_count": null,
   "id": "567fbe1c",
   "metadata": {},
   "outputs": [],
   "source": [
    "def get_r2_scores(df, clusterer, min_k=1, max_k=8):\n",
    "    \"\"\"\n",
    "    Loop over different values of k. To be used with sklearn clusterers.\n",
    "    \"\"\"\n",
    "    r2_clust = {}\n",
    "    for n in range(min_k, max_k):\n",
    "        clust = clone(clusterer).set_params(n_clusters=n)\n",
    "        labels = clust.fit_predict(df)\n",
    "        r2_clust[n] = r2(df, labels)\n",
    "    return r2_clust"
   ]
  },
  {
   "cell_type": "code",
   "execution_count": null,
   "id": "a02b01fc",
   "metadata": {},
   "outputs": [],
   "source": [
    "get_r2_scores(meanmixed, hierarchical.set_params(linkage=linkage), 2,6)"
   ]
  },
  {
   "cell_type": "markdown",
   "id": "0f8097ec",
   "metadata": {},
   "source": [
    "<a class=\"anchor\" id=\"4.1.3\">\n",
    "\n",
    "### SOM\n",
    "    \n",
    "</a>"
   ]
  },
  {
   "cell_type": "code",
   "execution_count": null,
   "id": "e8870eed",
   "metadata": {},
   "outputs": [],
   "source": [
    "value.columns.to_list()"
   ]
  },
  {
   "cell_type": "code",
   "execution_count": null,
   "id": "34a23178",
   "metadata": {},
   "outputs": [],
   "source": [
    "feat = ['BoxCox_PremHousehold',\n",
    " 'BoxCox_PremHealth',\n",
    " 'BoxCox_PremMotor',\n",
    " 'BoxCox_PremLife',\n",
    " 'BoxCox_PremWork',\n",
    " 'BoxCox_CustMonVal']"
   ]
  },
  {
   "cell_type": "code",
   "execution_count": null,
   "id": "6bff413c",
   "metadata": {},
   "outputs": [],
   "source": [
    "from matplotlib.patches import RegularPolygon, Ellipse\n",
    "from mpl_toolkits.axes_grid1 import make_axes_locatable\n",
    "from matplotlib import cm, colorbar\n",
    "from matplotlib import colors as mpl_colors\n",
    "\n",
    "from matplotlib.lines import Line2D\n",
    "from matplotlib import __version__ as mplver\n",
    "from sklearn import __version__ as skv\n",
    "print(skv)\n",
    "from IPython.display import YouTubeVideo\n",
    "\n",
    "from os.path import join\n",
    "import pandas as pd\n",
    "import numpy as np\n",
    "import joblib\n",
    "import sys\n",
    "sys.modules['sklearn.externals.joblib'] = joblib\n",
    "\n",
    "import seaborn as sns\n",
    "import matplotlib.pyplot as plt\n",
    "\n",
    "from sklearn.cluster import KMeans, AgglomerativeClustering\n",
    "from sklearn.neighbors import KNeighborsClassifier\n",
    "\n",
    "import sompy\n",
    "from sompy.visualization.mapview import View2D\n",
    "from sompy.visualization.bmuhits import BmuHitsView\n",
    "from sompy.visualization.hitmap import HitMapView\n",
    "\n",
    "#!pip install ipdb\n",
    "import sompy\n",
    "#!pip3 install git+https://github.com/compmonks/SOMPY.git\n",
    "from sompy import SOMFactory\n",
    "# This som implementation does not have a random seed parameter\n",
    "# We're going to set it up ourselves\n",
    "# This som implementation does not have a random seed parameter\n",
    "# We're going to set it up ourselves"
   ]
  },
  {
   "cell_type": "code",
   "execution_count": null,
   "id": "4b313850",
   "metadata": {},
   "outputs": [],
   "source": [
    "np.random.seed(42)\n",
    "\n",
    "sm = sompy.SOMFactory().build(\n",
    "    value.values, \n",
    "    mapsize=[8, 12],  # NEEDS TO BE A LIST\n",
    "    initialization='random', \n",
    "    neighborhood='gaussian',\n",
    "    training='batch',\n",
    "    lattice='hexa',\n",
    "    component_names=value.columns.to_list()\n",
    ")\n",
    "sm.train(n_job=4, verbose='info', train_rough_len=100, train_finetune_len=100)"
   ]
  },
  {
   "cell_type": "code",
   "execution_count": null,
   "id": "5f4b357f",
   "metadata": {},
   "outputs": [],
   "source": [
    "###################################\n",
    "### Visualizing Component Planes ##\n",
    "###################################\n",
    "\n",
    "def plot_component_planes(weights,\n",
    "                          features,\n",
    "                          M=3, N=4, \n",
    "                          figsize=(20,20),\n",
    "                          figlayout=(3,4),\n",
    "                          title=\"Component Planes\",\n",
    "                          cmap=cm.magma\n",
    "                         ):\n",
    "    \n",
    "    xx, yy = np.meshgrid(np.arange(N), np.arange(M))\n",
    "    xx = xx.astype(float)\n",
    "    yy = yy.astype(float)\n",
    "\n",
    "    xx[::-2] -= 0.5\n",
    "\n",
    "    xx = xx\n",
    "    yy = yy\n",
    "    \n",
    "    \n",
    "    weights_ = np.flipud(np.flip(weights.reshape((M,N,len(features))),axis=1))\n",
    "\n",
    "    fig = plt.figure(figsize=figsize, constrained_layout=True)\n",
    "    subfigs = fig.subfigures(figlayout[0], figlayout[1], wspace=.15)\n",
    "    \n",
    "    ## Normalize color scale to range of all values\n",
    "    colornorm = mpl_colors.Normalize(vmin=np.min(weights), \n",
    "                                         vmax=np.max(weights))\n",
    "\n",
    "    for cpi, sf in zip(range(len(metric_features)), subfigs.flatten()):\n",
    "\n",
    "        sf.suptitle(features[cpi], y=0.95, fontsize=14)\n",
    "\n",
    "        axs = sf.subplots(1,1, )\n",
    "        axs.set_aspect('equal')\n",
    "\n",
    "        ## Normalize color scale to range of values in each component\n",
    "        colornorm = mpl_colors.Normalize(vmin=np.min(weights_[:,:,cpi]), \n",
    "                                         vmax=np.max(weights_[:,:,cpi]))\n",
    "\n",
    "        # iteratively add hexagons\n",
    "        for i in range(weights_.shape[0]):\n",
    "            for j in range(weights_.shape[1]):\n",
    "                wy = yy[(i, j)] * np.sqrt(3) / 2\n",
    "                hexagon = RegularPolygon((xx[(i, j)], wy), \n",
    "                                     numVertices=6, \n",
    "                                     radius=.99 / np.sqrt(3),\n",
    "                                     facecolor=cmap(colornorm(weights_[i, j, cpi])), \n",
    "                                     alpha=1, \n",
    "                                     linewidth=.5,\n",
    "                                     edgecolor=cmap(colornorm(weights_[i, j, cpi]))\n",
    "                                    )\n",
    "                axs.add_patch(hexagon)\n",
    "\n",
    "\n",
    "        ## only run this block if matplotlib >= 3.6.x\n",
    "        mplv = [int(i) for i in mplver.split('.')]\n",
    "        if mplv[1] >= 6:\n",
    "            ## Add colorbar\n",
    "            divider = make_axes_locatable(axs)\n",
    "\n",
    "            ax_cb = divider.append_axes(\"right\", size=\"7%\")#, pad=\"2%\")\n",
    "\n",
    "            ## Create a Mappable object\n",
    "            cmap_sm = plt.cm.ScalarMappable(cmap=cmap, norm=colornorm)\n",
    "            cmap_sm.set_array([])\n",
    "\n",
    "            ## Create custom colorbar \n",
    "            cb1 = colorbar.Colorbar(ax_cb,\n",
    "                                    orientation='vertical', \n",
    "                                    alpha=1,\n",
    "                                    mappable=cmap_sm\n",
    "                                    )\n",
    "            #cb1.ax.get_yaxis().labelpad = 16\n",
    "\n",
    "            ## Add colorbar to plot\n",
    "            sf.add_axes(ax_cb)\n",
    "\n",
    "\n",
    "\n",
    "        ## Remove axes for hex plot\n",
    "        axs.margins(.05)\n",
    "        axs.axis(\"off\")\n",
    "\n",
    "\n",
    "    fig.suptitle(title, fontsize=16)\n",
    "    plt.show()"
   ]
  },
  {
   "cell_type": "code",
   "execution_count": null,
   "id": "e1b40be4",
   "metadata": {},
   "outputs": [],
   "source": [
    "# Here you have U-matrix\n",
    "u = sompy.umatrix.UMatrixView(9, 9, 'umatrix', show_axis=True, text_size=8, show_text=True)\n",
    "\n",
    "UMAT = u.show(\n",
    "    sm, \n",
    "    distance=2,\n",
    "    row_normalized=False,\n",
    "    show_data=True, \n",
    "    contour=True, # Visualize isomorphic curves\n",
    "    blob=True\n",
    ")\n",
    "\n",
    "np.flip(UMAT[1], axis=1) # U-matrix values - they match with the plot colors"
   ]
  },
  {
   "cell_type": "code",
   "execution_count": null,
   "id": "62f0c5e6",
   "metadata": {},
   "outputs": [],
   "source": [
    "vhts  = BmuHitsView(12,12,\"Hits Map\")\n",
    "vhts.show(sm, anotate=True, onlyzeros=False, labelsize=12, cmap=\"Greens\")\n",
    "plt.show()"
   ]
  },
  {
   "cell_type": "code",
   "execution_count": null,
   "id": "1a6b1c99",
   "metadata": {},
   "outputs": [],
   "source": [
    "# Perform K-Means clustering on top of the 2500 untis (sm.get_node_vectors() output)\n",
    "kmeans = KMeans(n_clusters=4, init='k-means++', n_init=20, random_state=42)\n",
    "nodeclus_labels = kmeans.fit_predict(sm.codebook.matrix)\n",
    "sm.cluster_labels = nodeclus_labels  # setting the cluster labels of sompy\n",
    "\n",
    "hits = HitMapView(12, 12,\"Clustering\", text_size=10)\n",
    "hits.show(sm, anotate=True, onlyzeros=False, labelsize=7, cmap=\"Pastel1\")\n",
    "\n",
    "plt.show()"
   ]
  },
  {
   "cell_type": "code",
   "execution_count": null,
   "id": "ba44fc01",
   "metadata": {},
   "outputs": [],
   "source": [
    "hierclust = AgglomerativeClustering(n_clusters=4, linkage='ward')\n",
    "nodeclus_labels = hierclust.fit_predict(sm.codebook.matrix)\n",
    "sm.cluster_labels = nodeclus_labels  # setting the cluster labels of sompy\n",
    "\n",
    "hits  = HitMapView(12, 12,\"Clustering\",text_size=10)\n",
    "hits.show(sm, anotate=True, onlyzeros=False, labelsize=7, cmap=\"Pastel1\")\n",
    "\n",
    "plt.show()"
   ]
  },
  {
   "cell_type": "code",
   "execution_count": null,
   "id": "ef8a96bb",
   "metadata": {},
   "outputs": [],
   "source": [
    "# Check the nodes and and respective clusters\n",
    "nodes = sm.codebook.matrix\n",
    "\n",
    "df_nodes = pd.DataFrame(nodes, columns=value.columns.to_list())\n",
    "df_nodes['label'] = nodeclus_labels\n",
    "df_nodes"
   ]
  },
  {
   "cell_type": "code",
   "execution_count": null,
   "id": "2bc7848f",
   "metadata": {},
   "outputs": [],
   "source": [
    "# Obtaining SOM's BMUs labels\n",
    "bmus_map = sm.find_bmu(value)[0]  # get bmus for each observation in df\n",
    "\n",
    "df_bmus = pd.DataFrame(\n",
    "    np.concatenate((value, np.expand_dims(bmus_map,1)), axis=1),\n",
    "    index=df.index, columns=np.append(value.columns,\"BMU\")\n",
    ")\n",
    "df_bmus"
   ]
  },
  {
   "cell_type": "code",
   "execution_count": null,
   "id": "1e95ff9f",
   "metadata": {},
   "outputs": [],
   "source": [
    "# Get cluster labels for each observation\n",
    "df_final = df_bmus.merge(df_nodes['label'], 'left', left_on=\"BMU\", right_index=True)\n",
    "df_final"
   ]
  },
  {
   "cell_type": "code",
   "execution_count": null,
   "id": "e5122957",
   "metadata": {},
   "outputs": [],
   "source": [
    "# Characaterizing the final clusters\n",
    "df_final.drop(columns='BMU').groupby('label').mean()"
   ]
  },
  {
   "cell_type": "code",
   "execution_count": null,
   "id": "9c7c4538",
   "metadata": {},
   "outputs": [],
   "source": []
  },
  {
   "cell_type": "code",
   "execution_count": null,
   "id": "a4d93315",
   "metadata": {},
   "outputs": [],
   "source": [
    "# using R²\n",
    "def get_ss(df):\n",
    "    ss = np.sum(df.var() * (df.count() - 1))\n",
    "    return ss  # return sum of sum of squares of each df variable\n",
    "\n",
    "sst = get_ss(value)  # get total sum of squares\n",
    "ssw_labels = df_final[feat + [\"label\"]].groupby(by='label').apply(get_ss)  # compute ssw for each cluster labels\n",
    "ssb = sst - np.sum(ssw_labels)  # remember: SST = SSW + SSB\n",
    "r2 = ssb / sst\n",
    "r2"
   ]
  },
  {
   "cell_type": "markdown",
   "id": "e8ee1a1f",
   "metadata": {},
   "source": [
    "<a class=\"anchor\" id=\"4.2\">\n",
    "\n",
    "## Demographic\n",
    "    \n",
    "</a>"
   ]
  },
  {
   "cell_type": "code",
   "execution_count": null,
   "id": "170b232e",
   "metadata": {},
   "outputs": [],
   "source": [
    "demogra = df_fs[[\"EducDeg\",\"Age\",\"BoxCox_Salary\",\"Children\",'Area_1', 'Area_2', 'Area_3', 'Area_4','BinnedCR','BoxCox_Salary%SalaryInsurance','ClaimsRate']]"
   ]
  },
  {
   "cell_type": "code",
   "execution_count": null,
   "id": "3ee0b348",
   "metadata": {},
   "outputs": [],
   "source": [
    "demogra"
   ]
  },
  {
   "cell_type": "code",
   "execution_count": null,
   "id": "d77610f2",
   "metadata": {},
   "outputs": [],
   "source": [
    "demogra_corr = demogra.corr()\n",
    "corr_heatmap(demogra_corr)"
   ]
  },
  {
   "cell_type": "markdown",
   "id": "5b3c34a3",
   "metadata": {},
   "source": [
    "<a class=\"anchor\" id=\"4.2.1\">\n",
    "\n",
    "### K-Prototype\n",
    "    \n",
    "</a>"
   ]
  },
  {
   "cell_type": "code",
   "execution_count": null,
   "id": "ee0bbd5f",
   "metadata": {},
   "outputs": [],
   "source": [
    "demographic=demogra[['Children', 'EducDeg', 'BoxCox_Salary', 'BinnedCR']]\n",
    "categorical_columns = [0,1,3]"
   ]
  },
  {
   "cell_type": "code",
   "execution_count": null,
   "id": "8da08007",
   "metadata": {},
   "outputs": [],
   "source": [
    "# Elbow plot\n",
    "cost_elbow = []\n",
    "for n_clus in range(1,11):\n",
    "    kproto = KPrototypes(n_clusters= n_clus, init='Huang',n_jobs = 1)\n",
    "    clusters = kproto.fit_predict(demographic, categorical=categorical_columns)\n",
    "    cost_elbow.append(kproto.cost_) "
   ]
  },
  {
   "cell_type": "code",
   "execution_count": null,
   "id": "519b1517",
   "metadata": {
    "scrolled": true
   },
   "outputs": [],
   "source": [
    "# Plot elbow plot\n",
    "sns.set_style(\"white\")\n",
    "range_K=range(1,11)\n",
    "plt.figure(figsize=(9,5))\n",
    "plt.plot(range_K, cost_elbow, 'bx-')\n",
    "pd.Series(cost_elbow,index=range_K)\n",
    "plt.xlabel('Number of clusters')\n",
    "plt.ylabel('Cluster Cost')\n",
    "plt.title('The Elbow Method - KPrototypes', size=15)\n",
    "\n",
    "plt.show()\n"
   ]
  },
  {
   "cell_type": "code",
   "execution_count": null,
   "id": "3ed50522",
   "metadata": {},
   "outputs": [],
   "source": [
    "kproto_3 = KPrototypes(n_clusters= 3, init='Huang', n_jobs = 1, random_state=42)\n",
    "clusters_3 = kproto_3.fit_predict(demographic, categorical=categorical_columns)\n",
    "\n",
    "pd.Series(clusters_3).value_counts()"
   ]
  },
  {
   "cell_type": "code",
   "execution_count": null,
   "id": "25ff35e1",
   "metadata": {},
   "outputs": [],
   "source": [
    "clusters_3_df=pd.DataFrame(clusters_3+1,index=demographic.index).rename(columns={0:'label'})\n",
    "clusters_3_df"
   ]
  },
  {
   "cell_type": "code",
   "execution_count": null,
   "id": "e0af5744",
   "metadata": {
    "scrolled": true
   },
   "outputs": [],
   "source": [
    "#social_labels.drop(['social_labels'], axis =1 , inplace=True)\n",
    "demographic['label'] = clusters_3_df\n",
    "demographic.groupby('label').mean()"
   ]
  },
  {
   "cell_type": "code",
   "execution_count": null,
   "id": "f2c0c1c8",
   "metadata": {},
   "outputs": [],
   "source": [
    "demographic.drop(['label'], axis=1,inplace=True)"
   ]
  },
  {
   "cell_type": "code",
   "execution_count": null,
   "id": "cbaad983",
   "metadata": {},
   "outputs": [],
   "source": [
    "demographic"
   ]
  },
  {
   "cell_type": "markdown",
   "id": "abf1badd",
   "metadata": {},
   "source": [
    "<a class=\"anchor\" id=\"4.2.2\">\n",
    "\n",
    "### KMeans\n",
    "    \n",
    "</a>"
   ]
  },
  {
   "cell_type": "code",
   "execution_count": null,
   "id": "658a71df",
   "metadata": {},
   "outputs": [],
   "source": [
    "demographic_kmeans=demogra[['Age', 'ClaimsRate', 'BoxCox_Salary','BoxCox_Salary%SalaryInsurance']]\n"
   ]
  },
  {
   "cell_type": "code",
   "execution_count": null,
   "id": "a17e99e8",
   "metadata": {},
   "outputs": [],
   "source": [
    "range_clusters = range(1, 11)\n",
    "inertia = []\n",
    "for n_clus in range_clusters:  # iterate over desired ncluster range\n",
    "    kmclust = KMeans(n_clusters=n_clus, init='k-means++', n_init=15, random_state=1)\n",
    "    kmclust.fit(demographic_kmeans)\n",
    "    inertia.append(kmclust.inertia_)  # save the inertia of the given cluster solution\n",
    "# The inertia plot\n",
    "plt.figure(figsize=(9,5))\n",
    "plt.plot(inertia)\n",
    "plt.ylabel(\"Inertia: SSw\")\n",
    "plt.xlabel(\"Number of clusters\")\n",
    "plt.title(\"Inertia plot over clusters\", size=15)\n",
    "plt.show()\n"
   ]
  },
  {
   "cell_type": "code",
   "execution_count": null,
   "id": "cf164984",
   "metadata": {},
   "outputs": [],
   "source": [
    "# Adapted from:\n",
    "# https://scikit-learn.org/stable/auto_examples/cluster/plot_kmeans_silhouette_analysis.html#sphx-glr-auto-examples-cluster-plot-kmeans-silhouette-analysis-py\n",
    "\n",
    "# Storing average silhouette metric\n",
    "avg_silhouette = []\n",
    "for nclus in range_clusters:\n",
    "    # Skip nclus == 1\n",
    "    if nclus == 1:\n",
    "        continue\n",
    "    \n",
    "    # Create a figure\n",
    "    fig = plt.figure(figsize=(13, 7))\n",
    "\n",
    "    # Initialize the KMeans object with n_clusters demographic_kmeans and a random generator\n",
    "    # seed of 10 for reproducibility.\n",
    "    kmclust = KMeans(n_clusters=nclus, init='k-means++', n_init=15, random_state=1)\n",
    "    cluster_labels = kmclust.fit_predict(demographic_kmeans)\n",
    "\n",
    "    # The silhouette_score gives the average demographic_kmeans for all the samples.\n",
    "    # This gives a perspective into the density and separation of the formed clusters\n",
    "    silhouette_avg = silhouette_score(demographic_kmeans, cluster_labels)\n",
    "    avg_silhouette.append(silhouette_avg)\n",
    "    print(f\"For n_clusters = {nclus}, the average silhouette_score is : {silhouette_avg}\")\n",
    "\n",
    "    # Compute the silhouette scores for each sample\n",
    "    sample_silhouette_values = silhouette_samples(demographic_kmeans, cluster_labels)\n",
    "\n",
    "    y_lower = 10\n",
    "    for i in range(nclus):\n",
    "        # Aggregate the silhouette scores for samples belonging to cluster i, and sort them\n",
    "        ith_cluster_silhouette_values = sample_silhouette_values[cluster_labels == i]\n",
    "        ith_cluster_silhouette_values.sort()\n",
    "        \n",
    "        # Get y_upper to demarcate silhouette y range size\n",
    "        size_cluster_i = ith_cluster_silhouette_values.shape[0]\n",
    "        y_upper = y_lower + size_cluster_i\n",
    "        \n",
    "        # Filling the silhouette\n",
    "        color = cm.nipy_spectral(float(i) / nclus)\n",
    "        plt.fill_betweenx(np.arange(y_lower, y_upper),\n",
    "                          0, ith_cluster_silhouette_values,\n",
    "                          facecolor=color, edgecolor=color, alpha=0.7)\n",
    "\n",
    "        # Label the silhouette plots with their cluster numbers at the middle\n",
    "        plt.text(-0.05, y_lower + 0.5 * size_cluster_i, str(i))\n",
    "\n",
    "        # Compute the new y_lower for next plot\n",
    "        y_lower = y_upper + 10  # 10 for the 0 samples\n",
    "\n",
    "    plt.title(\"The silhouette plot for the various clusters.\")\n",
    "    plt.xlabel(\"The silhouette coefficient values\")\n",
    "    plt.ylabel(\"Cluster label\")\n",
    "\n",
    "    # The vertical line for average silhouette score of all the values\n",
    "    plt.axvline(x=silhouette_avg, color=\"red\", linestyle=\"--\")\n",
    "    \n",
    "    # The silhouette coefficient can range from -1, 1\n",
    "    xmin, xmax = np.round(sample_silhouette_values.min() -0.1, 2), np.round(sample_silhouette_values.max() + 0.1, 2)\n",
    "    plt.xlim([xmin, xmax])\n",
    "    \n",
    "    # The (nclus+1)*10 is for inserting blank space between silhouette\n",
    "    # plots of individual clusters, to demarcate them clearly.\n",
    "    plt.ylim([0, len(demographic_kmeans) + (nclus + 1) * 10])\n",
    "\n",
    "    plt.yticks([])  # Clear the yaxis labels / ticks\n",
    "    plt.xticks(np.arange(xmin, xmax, 0.1))"
   ]
  },
  {
   "cell_type": "code",
   "execution_count": null,
   "id": "7e7cd956",
   "metadata": {},
   "outputs": [],
   "source": [
    "# The average silhouette plot\n",
    "# The inertia plot\n",
    "plt.figure(figsize=(9,5))\n",
    "plt.plot(avg_silhouette)\n",
    "plt.ylabel(\"Average silhouette\")\n",
    "plt.xlabel(\"Number of clusters\")\n",
    "plt.title(\"Average silhouette plot over clusters\", size=15)\n",
    "plt.show()"
   ]
  },
  {
   "cell_type": "code",
   "execution_count": null,
   "id": "ca390843",
   "metadata": {},
   "outputs": [],
   "source": [
    "# final cluster solution\n",
    "number_clusters = 3\n",
    "kmclust = KMeans(n_clusters=number_clusters, init='k-means++', n_init=15, random_state=1)\n",
    "km_labels = kmclust.fit_predict(demographic_kmeans)\n",
    "\n",
    "pd.Series(km_labels).value_counts()"
   ]
  },
  {
   "cell_type": "code",
   "execution_count": null,
   "id": "0018c95a",
   "metadata": {},
   "outputs": [],
   "source": [
    "# Characterizing the final clusters\n",
    "demographic_kmeans['label'] = km_labels\n",
    "demographic_kmeans.groupby('label').mean()"
   ]
  },
  {
   "cell_type": "code",
   "execution_count": null,
   "id": "6e7d662d",
   "metadata": {},
   "outputs": [],
   "source": [
    "demographic_kmeans"
   ]
  },
  {
   "cell_type": "code",
   "execution_count": null,
   "id": "2afca961",
   "metadata": {},
   "outputs": [],
   "source": [
    "demographic_kmeans.drop('label',axis=1,inplace=True)"
   ]
  },
  {
   "cell_type": "markdown",
   "id": "02d74484",
   "metadata": {},
   "source": [
    "<a class=\"anchor\" id=\"4.2.3\">\n",
    "\n",
    "### KMeans + Hierarchical\n",
    "    \n",
    "</a>"
   ]
  },
  {
   "cell_type": "code",
   "execution_count": null,
   "id": "017a039a",
   "metadata": {},
   "outputs": [],
   "source": [
    "# final cluster solution\n",
    "number_clusters = 35\n",
    "kmclust = KMeans(n_clusters=number_clusters, init='k-means++', n_init=15, random_state=1)\n",
    "km_labels = kmclust.fit_predict(demographic_kmeans)\n",
    "km_labels"
   ]
  },
  {
   "cell_type": "code",
   "execution_count": null,
   "id": "126de037",
   "metadata": {},
   "outputs": [],
   "source": [
    "mixedf = demographic_kmeans.copy()"
   ]
  },
  {
   "cell_type": "code",
   "execution_count": null,
   "id": "8379a527",
   "metadata": {},
   "outputs": [],
   "source": [
    "mixedf['label'] = km_labels"
   ]
  },
  {
   "cell_type": "code",
   "execution_count": null,
   "id": "00d46ee8",
   "metadata": {
    "scrolled": false
   },
   "outputs": [],
   "source": [
    "# Characterizing the final clusters\n",
    "df35 = demographic_kmeans.copy()\n",
    "df35['label'] = km_labels\n",
    "df35.groupby('label').mean()"
   ]
  },
  {
   "cell_type": "code",
   "execution_count": null,
   "id": "66e821d1",
   "metadata": {},
   "outputs": [],
   "source": [
    "meanmixed = df35.groupby(by = 'label').mean()\n",
    "meanmixed"
   ]
  },
  {
   "cell_type": "code",
   "execution_count": null,
   "id": "ccafc2ed",
   "metadata": {
    "scrolled": true
   },
   "outputs": [],
   "source": [
    "df35.drop(['label'],inplace=True, axis=1)"
   ]
  },
  {
   "cell_type": "code",
   "execution_count": null,
   "id": "eed311aa",
   "metadata": {},
   "outputs": [],
   "source": [
    "df35"
   ]
  },
  {
   "cell_type": "code",
   "execution_count": null,
   "id": "9426d208",
   "metadata": {
    "scrolled": false
   },
   "outputs": [],
   "source": [
    "linkage = 'ward'\n",
    "distance = 'euclidean'\n",
    "hclust = AgglomerativeClustering(linkage=linkage, affinity=distance, distance_threshold=0, n_clusters=None)\n",
    "hclust.fit_predict(demographic_kmeans)"
   ]
  },
  {
   "cell_type": "code",
   "execution_count": null,
   "id": "30f0c4cd",
   "metadata": {},
   "outputs": [],
   "source": [
    "# Plotting dendrogram\n",
    "counts = np.zeros(hclust.children_.shape[0])\n",
    "n_samples = len(hclust.labels_)\n",
    "\n",
    "\n",
    "for i, merge in enumerate(hclust.children_):\n",
    "    current_count = 0\n",
    "    for child_idx in merge:\n",
    "        if child_idx < n_samples:\n",
    "            current_count += 1\n",
    "        else:\n",
    "            current_count += counts[child_idx - n_samples]\n",
    "    counts[i] = current_count\n",
    "\n",
    "linkage_matrix = np.column_stack(\n",
    "    [hclust.children_, hclust.distances_, counts]\n",
    ").astype(float)\n",
    "\n",
    "\n",
    "fig = plt.figure(figsize=(11,5))\n",
    "\n",
    "y_threshold = 50\n",
    "dendrogram(linkage_matrix, truncate_mode='level', p=5, color_threshold=y_threshold, above_threshold_color='k')\n",
    "plt.hlines(y_threshold, 0, 1000, colors=\"r\", linestyles=\"dashed\")\n",
    "plt.title(f'Hierarchical Clustering - {linkage.title()}\\'s Dendrogram', fontsize=21)\n",
    "plt.xlabel('Number of points in node (or index of point if no parenthesis)')\n",
    "plt.ylabel(f'{distance.title()} Distance', fontsize=13)\n",
    "\n",
    "plt.show()"
   ]
  },
  {
   "cell_type": "code",
   "execution_count": null,
   "id": "0995deb8",
   "metadata": {},
   "outputs": [],
   "source": [
    "linkage = 'ward'\n",
    "distance = 'euclidean'\n",
    "num_clust = 2\n",
    "\n",
    "final_hclust = AgglomerativeClustering(affinity = distance, linkage = linkage, n_clusters = num_clust)\n",
    "final_hc_labels = final_hclust.fit_predict(demographic_kmeans)\n",
    "\n",
    "demographic_kmeans['label'] = final_hc_labels\n",
    "demographic_kmeans.groupby('label').mean()"
   ]
  },
  {
   "cell_type": "code",
   "execution_count": null,
   "id": "c0feab3d",
   "metadata": {},
   "outputs": [],
   "source": [
    "print(len(final_hc_labels))\n",
    "print(len(demographic_kmeans))"
   ]
  },
  {
   "cell_type": "code",
   "execution_count": null,
   "id": "aaf79e9a",
   "metadata": {},
   "outputs": [],
   "source": [
    "demographic_kmeans"
   ]
  },
  {
   "cell_type": "code",
   "execution_count": null,
   "id": "3bde6a19",
   "metadata": {},
   "outputs": [],
   "source": [
    "demographic_kmeans.drop('label', axis=1, inplace=True)"
   ]
  },
  {
   "cell_type": "code",
   "execution_count": null,
   "id": "1f5af855",
   "metadata": {},
   "outputs": [],
   "source": [
    "def get_r2_scores(df, clusterer, min_k=1, max_k=8):\n",
    "    \"\"\"\n",
    "    Loop over different values of k. To be used with sklearn clusterers.\n",
    "    \"\"\"\n",
    "    r2_clust = {}\n",
    "    for n in range(min_k, max_k):\n",
    "        clust = clone(clusterer).set_params(n_clusters=n)\n",
    "        labels = clust.fit_predict(df)\n",
    "        r2_clust[n] = r2(df, labels)\n",
    "    return r2_clust"
   ]
  },
  {
   "cell_type": "code",
   "execution_count": null,
   "id": "04c49da9",
   "metadata": {},
   "outputs": [],
   "source": [
    "#get_r2_scores(demographic_kmeans, hierarchical.set_params(linkage=linkage), 2,6)"
   ]
  },
  {
   "cell_type": "code",
   "execution_count": null,
   "id": "ef390caa",
   "metadata": {
    "scrolled": false
   },
   "outputs": [],
   "source": [
    "linkage = 'ward'\n",
    "distance = 'euclidean'\n",
    "hclust = AgglomerativeClustering(linkage=linkage, affinity=distance, distance_threshold=0, n_clusters=None)\n",
    "hclust.fit_predict(meanmixed)"
   ]
  },
  {
   "cell_type": "code",
   "execution_count": null,
   "id": "62f8a8e4",
   "metadata": {
    "scrolled": true
   },
   "outputs": [],
   "source": [
    "# Plotting dendrogram\n",
    "counts = np.zeros(hclust.children_.shape[0])\n",
    "n_samples = len(hclust.labels_)\n",
    "\n",
    "\n",
    "for i, merge in enumerate(hclust.children_):\n",
    "    current_count = 0\n",
    "    for child_idx in merge:\n",
    "        if child_idx < n_samples:\n",
    "            current_count += 1\n",
    "        else:\n",
    "            current_count += counts[child_idx - n_samples]\n",
    "    counts[i] = current_count\n",
    "\n",
    "linkage_matrix = np.column_stack(\n",
    "    [hclust.children_, hclust.distances_, counts]\n",
    ").astype(float)\n",
    "\n",
    "\n",
    "fig = plt.figure(figsize=(11,5))\n",
    "\n",
    "y_threshold = 3\n",
    "dendrogram(linkage_matrix, truncate_mode='level', p=5, color_threshold=y_threshold, above_threshold_color='k')\n",
    "plt.hlines(y_threshold, 0, 1000, colors=\"r\", linestyles=\"dashed\")\n",
    "plt.title(f'Hierarchical Clustering - {linkage.title()}\\'s Dendrogram', fontsize=21)\n",
    "plt.xlabel('Number of points in node (or index of point if no parenthesis)')\n",
    "plt.ylabel(f'{distance.title()} Distance', fontsize=13)\n",
    "\n",
    "plt.show()"
   ]
  },
  {
   "cell_type": "code",
   "execution_count": null,
   "id": "9b68407f",
   "metadata": {},
   "outputs": [],
   "source": [
    "linkage = 'ward'\n",
    "distance = 'euclidean'\n",
    "num_clust = 2\n",
    "\n",
    "final_hclust = AgglomerativeClustering(affinity = distance, linkage = linkage, n_clusters = num_clust)\n",
    "final_hc_labels = final_hclust.fit_predict(meanmixed)\n",
    "\n",
    "meanmixed['label'] = final_hc_labels\n",
    "meanmixed.groupby(meanmixed['label']).mean()"
   ]
  },
  {
   "cell_type": "code",
   "execution_count": null,
   "id": "0e1e0b5d",
   "metadata": {},
   "outputs": [],
   "source": [
    "print(len(final_hc_labels))\n",
    "print(len(meanmixed))"
   ]
  },
  {
   "cell_type": "code",
   "execution_count": null,
   "id": "6098cd66",
   "metadata": {},
   "outputs": [],
   "source": [
    "meanmixed"
   ]
  },
  {
   "cell_type": "code",
   "execution_count": null,
   "id": "2b7d0fa6",
   "metadata": {},
   "outputs": [],
   "source": [
    "meanmixed.drop('label',axis=1,inplace=True)"
   ]
  },
  {
   "cell_type": "code",
   "execution_count": null,
   "id": "c6ef106a",
   "metadata": {},
   "outputs": [],
   "source": [
    "def get_r2_scores(df, clusterer, min_k=1, max_k=8):\n",
    "    \"\"\"\n",
    "    Loop over different values of k. To be used with sklearn clusterers.\n",
    "    \"\"\"\n",
    "    r2_clust = {}\n",
    "    for n in range(min_k, max_k):\n",
    "        clust = clone(clusterer).set_params(n_clusters=n)\n",
    "        labels = clust.fit_predict(df)\n",
    "        r2_clust[n] = r2(df, labels)\n",
    "    return r2_clust"
   ]
  },
  {
   "cell_type": "code",
   "execution_count": null,
   "id": "58ee1839",
   "metadata": {
    "scrolled": false
   },
   "outputs": [],
   "source": [
    "#get_r2_scores(meanmixed, hierarchical.set_params(linkage=linkage), 2,6)"
   ]
  },
  {
   "cell_type": "markdown",
   "id": "1e4b5a6d",
   "metadata": {},
   "source": [
    "<div class=\"alert alert-block alert-info\">\n",
    "\n",
    "<a class=\"anchor\" id=\"5\">\n",
    "\n",
    "# Merging the perspectives\n",
    "    \n",
    "</a>"
   ]
  },
  {
   "cell_type": "markdown",
   "id": "75074762",
   "metadata": {},
   "source": [
    "[Back to Index](#1.0)"
   ]
  },
  {
   "cell_type": "code",
   "execution_count": null,
   "id": "10ac4eec",
   "metadata": {},
   "outputs": [],
   "source": [
    "mergedAz = value.join(demographic_kmeans)\n",
    "mergedAz"
   ]
  },
  {
   "cell_type": "code",
   "execution_count": null,
   "id": "919d6833",
   "metadata": {},
   "outputs": [],
   "source": [
    "# Applying the right clustering (algorithm and number of clusters) for each perspective\n",
    "\n",
    "kmeans_demogra = KMeans(n_clusters=3, init='k-means++', n_init=15, random_state=1)\n",
    "\n",
    "# demo_lab = kmeans_demogra.fit_predict(demographic, categorical=categorical_columns)\n",
    "demo_lab = kmeans_demogra.fit_predict(demographic_kmeans)\n",
    "\n",
    "kmeans_value = KMeans(\n",
    "    n_clusters=4,\n",
    "    init='k-means++',\n",
    "    n_init=20,\n",
    "    random_state=0\n",
    ")\n",
    "value_lab = kmeans_value.fit_predict(value)\n",
    "\n",
    "mergedAz['demographic'] = demo_lab\n",
    "mergedAz['value'] = value_lab"
   ]
  },
  {
   "cell_type": "code",
   "execution_count": null,
   "id": "04d67606",
   "metadata": {},
   "outputs": [],
   "source": [
    "AzMetricF = ['BoxCox_PremHousehold', 'BoxCox_PremHealth', 'BoxCox_PremMotor', 'BoxCox_PremLife', 'BoxCox_PremWork', 'BoxCox_CustMonVal','BoxCox_Salary','BoxCox_Salary%SalaryInsurance','Age','ClaimsRate']"
   ]
  },
  {
   "cell_type": "code",
   "execution_count": null,
   "id": "8ffc91b2",
   "metadata": {
    "scrolled": true
   },
   "outputs": [],
   "source": [
    "mergedAz"
   ]
  },
  {
   "cell_type": "code",
   "execution_count": null,
   "id": "7054eab5",
   "metadata": {},
   "outputs": [],
   "source": [
    "# Count label frequencies (contigency table)\n",
    "mergedAz.groupby(['value', 'demographic'])\\\n",
    "    .size()\\\n",
    "    .to_frame()\\\n",
    "    .reset_index()\\\n",
    "    .pivot('demographic', 'value', 0)"
   ]
  },
  {
   "cell_type": "code",
   "execution_count": null,
   "id": "5e24dd6a",
   "metadata": {},
   "outputs": [],
   "source": [
    "# Clusters with low frequency to be merged:\n",
    "to_merge = [(0,1), (0,2), (2,1),(1,3)]\n",
    "\n",
    "df_centroids = mergedAz.groupby(['demographic', 'value'])\\\n",
    "    [AzMetricF].mean()\n",
    "\n",
    "# Computing the euclidean distance matrix between the centroids\n",
    "euclidean = pairwise_distances(df_centroids)\n",
    "df_dists = pd.DataFrame(\n",
    "    euclidean, columns=df_centroids.index, index=df_centroids.index\n",
    ")\n",
    "\n",
    "# Merging each low frequency clustering (source) to the closest cluster (target)\n",
    "source_target = {}\n",
    "for clus in to_merge:\n",
    "    if clus not in source_target.values():\n",
    "        source_target[clus] = df_dists.loc[clus].sort_values().index[1]\n",
    "\n",
    "source_target"
   ]
  },
  {
   "cell_type": "code",
   "execution_count": null,
   "id": "9fcc3c18",
   "metadata": {
    "scrolled": false
   },
   "outputs": [],
   "source": [
    "mergedAz_ = mergedAz.copy()\n",
    "\n",
    "# Changing the behavior_labels and product_labels based on source_target\n",
    "for source, target in source_target.items():\n",
    "    mask = (mergedAz_['demographic']==source[0]) & (mergedAz_['value']==source[1])\n",
    "    mergedAz_.loc[mask, 'demographic'] = target[0]\n",
    "    mergedAz_.loc[mask, 'value'] = target[1]\n",
    "\n",
    "# New contigency table\n",
    "mergedAz_.groupby(['value', 'demographic'])\\\n",
    "    .size()\\\n",
    "    .to_frame()\\\n",
    "    .reset_index()\\\n",
    "    .pivot('demographic', 'value', 0)"
   ]
  },
  {
   "cell_type": "code",
   "execution_count": null,
   "id": "827aaedd",
   "metadata": {
    "scrolled": true
   },
   "outputs": [],
   "source": [
    "# Centroids of the concatenated cluster labels\n",
    "df_centroids = mergedAz_.groupby(['demographic', 'value'])\\\n",
    "    [AzMetricF].mean()\n",
    "df_centroids"
   ]
  },
  {
   "cell_type": "code",
   "execution_count": null,
   "id": "500e180b",
   "metadata": {},
   "outputs": [],
   "source": [
    "# Using Hierarchical clustering to merge the concatenated cluster centroids\n",
    "hclust = AgglomerativeClustering(\n",
    "    linkage='ward', \n",
    "    affinity='euclidean', \n",
    "    distance_threshold=0, \n",
    "    n_clusters=None\n",
    ")\n",
    "hclust_labels = hclust.fit_predict(df_centroids)"
   ]
  },
  {
   "cell_type": "code",
   "execution_count": null,
   "id": "a5ad8c42",
   "metadata": {
    "scrolled": false
   },
   "outputs": [],
   "source": [
    "# Adapted from:\n",
    "# https://scikit-learn.org/stable/auto_examples/cluster/plot_agglomerative_dendrogram.html#sphx-glr-auto-examples-cluster-plot-agglomerative-dendrogram-py\n",
    "\n",
    "# create the counts of samples under each node (number of points being merged)\n",
    "counts = np.zeros(hclust.children_.shape[0])\n",
    "n_samples = len(hclust.labels_)\n",
    "\n",
    "# hclust.children_ contains the observation ids that are being merged together\n",
    "# At the i-th iteration, children[i][0] and children[i][1] are merged to form node n_samples + i\n",
    "for i, merge in enumerate(hclust.children_):\n",
    "    # track the number of observations in the current cluster being formed\n",
    "    current_count = 0\n",
    "    for child_idx in merge:\n",
    "        if child_idx < n_samples:\n",
    "            # If this is True, then we are merging an observation\n",
    "            current_count += 1  # leaf node\n",
    "        else:\n",
    "            # Otherwise, we are merging a previously formed cluster\n",
    "            current_count += counts[child_idx - n_samples]\n",
    "    counts[i] = current_count\n",
    "\n",
    "# the hclust.children_ is used to indicate the two points/clusters being merged (dendrogram's u-joins)\n",
    "# the hclust.distances_ indicates the distance between the two points/clusters (height of the u-joins)\n",
    "# the counts indicate the number of points being merged (dendrogram's x-axis)\n",
    "linkage_matrix = np.column_stack(\n",
    "    [hclust.children_, hclust.distances_, counts]\n",
    ").astype(float)\n",
    "\n",
    "# Plot the corresponding dendrogram\n",
    "sns.set()\n",
    "fig = plt.figure(figsize=(11,5))\n",
    "# The Dendrogram parameters need to be tuned\n",
    "y_threshold = 1.1\n",
    "dendrogram(linkage_matrix, truncate_mode='level', labels=df_centroids.index, p=5, color_threshold=y_threshold, above_threshold_color='k')\n",
    "plt.hlines(y_threshold, 0, 1000, colors=\"r\", linestyles=\"dashed\")\n",
    "plt.title(f'Hierarchical Clustering - {linkage.title()}\\'s Dendrogram', fontsize=21)\n",
    "plt.xlabel('Number of points in node (or index of point if no parenthesis)')\n",
    "plt.ylabel(f'Euclidean Distance', fontsize=13)\n",
    "plt.show()"
   ]
  },
  {
   "cell_type": "code",
   "execution_count": null,
   "id": "17e139e2",
   "metadata": {},
   "outputs": [],
   "source": [
    "cluster_changes = {\n",
    " (0, 0): 3,\n",
    " (0, 1): 3,\n",
    " (0, 2): 3,\n",
    " (0, 3): 4,\n",
    " (1, 0): 7,\n",
    " (1, 1): 6,\n",
    " (1, 2): 7,\n",
    " (1, 3): 12,\n",
    " (2, 0): 11,\n",
    " (2, 1): 11,\n",
    " (2, 2): 11,\n",
    " (2, 3): 12}"
   ]
  },
  {
   "cell_type": "code",
   "execution_count": null,
   "id": "45052fb0",
   "metadata": {},
   "outputs": [],
   "source": [
    "mergedAz_['merged_labels'] = mergedAz_.apply(\n",
    "    lambda row: cluster_changes[\n",
    "        (row['demographic'], row['value'])\n",
    "    ], axis=1\n",
    ")\n",
    "\n",
    "mergedAz_.groupby('merged_labels').mean()"
   ]
  },
  {
   "cell_type": "code",
   "execution_count": null,
   "id": "dcec6300",
   "metadata": {
    "scrolled": true
   },
   "outputs": [],
   "source": [
    "mergedAz_['merged_labels'].value_counts()"
   ]
  },
  {
   "cell_type": "markdown",
   "id": "c1e29c24",
   "metadata": {},
   "source": [
    "<div class=\"alert alert-block alert-info\">\n",
    "\n",
    "<a class=\"anchor\" id=\"6\">\n",
    "\n",
    "# Cluster Analysis\n",
    "    \n",
    "</a>"
   ]
  },
  {
   "cell_type": "markdown",
   "id": "531aef41",
   "metadata": {},
   "source": [
    "[Back to Index](#1.0)"
   ]
  },
  {
   "cell_type": "markdown",
   "id": "634bb537",
   "metadata": {},
   "source": [
    "<a class=\"anchor\" id=\"6.1\">\n",
    "\n",
    "## Parallel Coordinate and Frequency (Value/Deemographic/Merged)\n",
    "    \n",
    "</a>"
   ]
  },
  {
   "cell_type": "code",
   "execution_count": null,
   "id": "32dff9b4",
   "metadata": {
    "scrolled": true
   },
   "outputs": [],
   "source": [
    "def cluster_profiles(df, label_columns, figsize, compar_titles=None):\n",
    "    \"\"\"\n",
    "    Pass df with labels columns of one or multiple clustering labels. \n",
    "    Then specify this label columns to perform the cluster profile according to them.\n",
    "    \"\"\"\n",
    "    if compar_titles == None:\n",
    "        compar_titles = [\"\"]*len(label_columns)\n",
    "        \n",
    "    sns.set()\n",
    "    fig, axes = plt.subplots(nrows=len(label_columns), ncols=2, figsize=figsize, squeeze=False)\n",
    "    for ax, label, titl in zip(axes, label_columns, compar_titles):\n",
    "        # Filtering df\n",
    "        drop_cols = [i for i in label_columns if i!=label]\n",
    "        dfax = df.drop(drop_cols, axis=1)\n",
    "        \n",
    "        # Getting the cluster centroids and counts\n",
    "        centroids = dfax.groupby(by=label, as_index=False).mean()\n",
    "        counts = dfax.groupby(by=label, as_index=False).count().iloc[:,[0,1]]\n",
    "        counts.columns = [label, \"counts\"]\n",
    "        \n",
    "        # Setting Data\n",
    "        pd.plotting.parallel_coordinates(centroids, label, color=sns.color_palette(), ax=ax[0])\n",
    "        sns.barplot(x=label, y=\"counts\", data=counts, ax=ax[1])\n",
    "\n",
    "        #Setting Layout\n",
    "        handles, _ = ax[0].get_legend_handles_labels()\n",
    "        cluster_labels = [\"Cluster {}\".format(i) for i in range(len(handles))]\n",
    "        ax[0].annotate(text=titl, xy=(0.95,1.1), xycoords='axes fraction', fontsize=13, fontweight = 'heavy') \n",
    "        ax[0].legend(handles, cluster_labels) # Adaptable to number of clusters\n",
    "        ax[0].axhline(color=\"black\", linestyle=\"--\")\n",
    "        ax[0].set_title(\"Cluster Means - {} Clusters\".format(len(handles)), fontsize=13)\n",
    "        ax[0].set_xticklabels(ax[0].get_xticklabels(), rotation=-20)\n",
    "        ax[1].set_xticklabels(cluster_labels)\n",
    "        ax[1].set_xlabel(\"\")\n",
    "        ax[1].set_ylabel(\"Absolute Frequency\")\n",
    "        ax[1].set_title(\"Cluster Sizes - {} Clusters\".format(len(handles)), fontsize=13)\n",
    "    \n",
    "    plt.subplots_adjust(hspace=0.4, top=0.90)\n",
    "    plt.suptitle(\"Cluster Simple Profilling\", fontsize=23)\n",
    "    plt.show()"
   ]
  },
  {
   "cell_type": "code",
   "execution_count": null,
   "id": "2f62f7de",
   "metadata": {
    "scrolled": false
   },
   "outputs": [],
   "source": [
    "# Profilling each cluster (product, behavior, merged)\n",
    "cluster_profiles(\n",
    "    df = mergedAz_[AzMetricF + ['value', 'demographic', 'merged_labels']], \n",
    "    label_columns = ['value', 'demographic', 'merged_labels'], \n",
    "    figsize = (28, 13), \n",
    "    compar_titles = [\"Value clustering\", \"Demographic clustering\", \"Merged clusters\"]\n",
    ")\n",
    "\n"
   ]
  },
  {
   "cell_type": "code",
   "execution_count": null,
   "id": "4ef58cab",
   "metadata": {
    "scrolled": false
   },
   "outputs": [],
   "source": [
    "mergedAz_"
   ]
  },
  {
   "cell_type": "markdown",
   "id": "296e6e17",
   "metadata": {},
   "source": [
    "<a class=\"anchor\" id=\"6.2\">\n",
    "\n",
    "## PCA\n",
    "    \n",
    "</a>"
   ]
  },
  {
   "cell_type": "code",
   "execution_count": null,
   "id": "9ddfc6f8",
   "metadata": {},
   "outputs": [],
   "source": [
    "Allf = ['BoxCox_PremHousehold', 'BoxCox_PremHealth', 'BoxCox_PremMotor', 'BoxCox_PremLife', 'BoxCox_PremWork', 'BoxCox_CustMonVal','BoxCox_Salary','BoxCox_Salary%SalaryInsurance','Age','ClaimsRate']"
   ]
  },
  {
   "cell_type": "code",
   "execution_count": null,
   "id": "817f8914",
   "metadata": {},
   "outputs": [],
   "source": [
    "\n",
    "from sklearn.decomposition import PCA\n",
    "# Use PCA to reduce dimensionality of data\n",
    "pca = PCA()\n",
    "pca_feat = pca.fit_transform(mergedAz_[AzMetricF])\n",
    "pca_feat  # What is this output?\n",
    "\n",
    "# Output PCA table\n",
    "pd.DataFrame(\n",
    "    {\"Eigenvalue\": pca.explained_variance_,\n",
    "     \"Difference\": np.insert(np.diff(pca.explained_variance_), 0, 0),\n",
    "     \"Proportion\": pca.explained_variance_ratio_,\n",
    "     \"Cumulative\": np.cumsum(pca.explained_variance_ratio_)},\n",
    "    index=range(1, pca.n_components_ + 1)\n",
    ")\n",
    "\n",
    "# Output PCA table\n",
    "pd.DataFrame(\n",
    "    {\"Eigenvalue\": pca.explained_variance_,\n",
    "     \"Difference\": np.insert(np.diff(pca.explained_variance_), 0, 0),\n",
    "     \"Proportion\": pca.explained_variance_ratio_,\n",
    "     \"Cumulative\": np.cumsum(pca.explained_variance_ratio_)},\n",
    "    index=range(1, pca.n_components_ + 1)\n",
    ")"
   ]
  },
  {
   "cell_type": "code",
   "execution_count": null,
   "id": "afb580f5",
   "metadata": {},
   "outputs": [],
   "source": [
    "from sklearn.decomposition import PCA\n",
    "# Perform PCA again with the number of principal components you want to retain\n",
    "pca = PCA(n_components=4)\n",
    "pca_feat = pca.fit_transform(mergedAz_[AzMetricF])\n",
    "pca_feat_names = [f\"PC{i}\" for i in range(pca.n_components_)]\n",
    "pca_df = pd.DataFrame(pca_feat, index=mergedAz_.index, columns=pca_feat_names)  # remember index=df_pca.index\n",
    "pca_df"
   ]
  },
  {
   "cell_type": "code",
   "execution_count": null,
   "id": "896a2107",
   "metadata": {},
   "outputs": [],
   "source": [
    "# Reassigning df to contain pca variables\n",
    "df_pca = pd.concat([mergedAz_, pca_df], axis=1)\n",
    "df_pca.head()\n"
   ]
  },
  {
   "cell_type": "code",
   "execution_count": null,
   "id": "cb1c70ca",
   "metadata": {},
   "outputs": [],
   "source": [
    "PC = ['PC0', 'PC1', 'PC2', 'PC3']"
   ]
  },
  {
   "cell_type": "code",
   "execution_count": null,
   "id": "275ced8a",
   "metadata": {
    "scrolled": true
   },
   "outputs": [],
   "source": [
    "colour = mergedAz_['merged_labels']"
   ]
  },
  {
   "cell_type": "markdown",
   "id": "1eb6962d",
   "metadata": {},
   "source": [
    "<a class=\"anchor\" id=\"6.3\">\n",
    "\n",
    "## UMAP\n",
    "    \n",
    "</a>"
   ]
  },
  {
   "cell_type": "code",
   "execution_count": null,
   "id": "96e45205",
   "metadata": {},
   "outputs": [],
   "source": [
    "hue = mergedAz_['merged_labels'].astype('str')"
   ]
  },
  {
   "cell_type": "code",
   "execution_count": null,
   "id": "f1d2d945",
   "metadata": {
    "scrolled": true
   },
   "outputs": [],
   "source": [
    "embedding = umap.UMAP(n_neighbors=10,\n",
    "                      min_dist=0.4,\n",
    "                      metric='correlation').fit(df_pca[PC])\n"
   ]
  },
  {
   "cell_type": "code",
   "execution_count": null,
   "id": "6113551d",
   "metadata": {},
   "outputs": [],
   "source": [
    "umap.plot.points(embedding, labels=hue)"
   ]
  },
  {
   "cell_type": "code",
   "execution_count": null,
   "id": "2920957c",
   "metadata": {
    "scrolled": false
   },
   "outputs": [],
   "source": [
    "#methods = ['PCA', 'IncrementalPCA', 'SparsePCA', 'MiniBatchSparsePCA', 'KernelPCA', 'FastICA', 'FactorAnalysis', 'TruncatedSVD', 'DictionaryLearning', 'MiniBatchDictionaryLearning', 'TSNE', 'Isomap', 'SpectralEmbedding', 'LocallyLinearEmbedding', 'MDS', 'UMAP']\n",
    "methods = ['UMAP']\n",
    "hue = mergedAz_['merged_labels'].astype('str')\n",
    "\n",
    "for param in methods:\n",
    "    hyp.plot(df_pca[PC], '.', reduce=param, hue=hue, ndims=3)\n",
    "    \n",
    "    \n",
    "    print(param)"
   ]
  },
  {
   "cell_type": "markdown",
   "id": "a30562f9",
   "metadata": {},
   "source": [
    "<a class=\"anchor\" id=\"6.4\">\n",
    "\n",
    "## T-SNE\n",
    "    \n",
    "</a>"
   ]
  },
  {
   "cell_type": "code",
   "execution_count": null,
   "id": "ff15e8a3",
   "metadata": {},
   "outputs": [],
   "source": [
    "two_dim = TSNE(random_state=42,perplexity = 100).fit_transform(df_pca[PC])\n",
    "\n",
    "pd.DataFrame(two_dim).plot.scatter(x=0, y=1, c=colour, colormap='tab10', figsize=(15,10))\n",
    "plt.title(\"TSNE\", fontsize=14)\n",
    "plt.show()"
   ]
  }
 ],
 "metadata": {
  "kernelspec": {
   "display_name": "Python 3 (ipykernel)",
   "language": "python",
   "name": "python3"
  },
  "language_info": {
   "codemirror_mode": {
    "name": "ipython",
    "version": 3
   },
   "file_extension": ".py",
   "mimetype": "text/x-python",
   "name": "python",
   "nbconvert_exporter": "python",
   "pygments_lexer": "ipython3",
   "version": "3.9.13"
  }
 },
 "nbformat": 4,
 "nbformat_minor": 5
}
